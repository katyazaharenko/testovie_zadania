{
 "cells": [
  {
   "cell_type": "markdown",
   "id": "0f2f2cd6-3907-4863-8193-794180565739",
   "metadata": {},
   "source": [
    "# Тестовое задание SMLab"
   ]
  },
  {
   "cell_type": "markdown",
   "id": "36bd8bcc-ee71-44b9-b30e-ca318e860a3a",
   "metadata": {},
   "source": [
    "## Задание 1. SQL."
   ]
  },
  {
   "cell_type": "markdown",
   "id": "ea62fd43-c46a-4dd3-bee1-4e50eac55305",
   "metadata": {},
   "source": [
    "Дана таблица с позициями чеков checks и с каталогом cat. Посчитать количество чеков, в которых куплено больше 2-х пар любой обуви и есть любой товар из категории туризм.\n",
    "Написать одним запросом на Oracle SQL."
   ]
  },
  {
   "cell_type": "code",
   "execution_count": 1,
   "id": "4897c85a-c8d9-4078-9bfe-c1f7c16574b3",
   "metadata": {},
   "outputs": [],
   "source": [
    "import sqlite3\n",
    "import pandas as pd"
   ]
  },
  {
   "cell_type": "code",
   "execution_count": 2,
   "id": "f60c6705-4192-49fe-97d2-d45c193fdcc3",
   "metadata": {},
   "outputs": [],
   "source": [
    "# создаём (или открываем) базу\n",
    "conn = sqlite3.connect(\"test_SM.db\")\n",
    "cur = conn.cursor()\n",
    "\n",
    "# создаём таблицу cat\n",
    "cur.execute(\"\"\"\n",
    "    CREATE TABLE cat (\n",
    "        art VARCHAR2(10) PRIMARY KEY,\n",
    "        product VARCHAR2(30),\n",
    "        category VARCHAR2(30))\n",
    "    \"\"\")\n",
    "\n",
    "# создаём таблицу checks\n",
    "cur.execute(\"\"\"\n",
    "    CREATE TABLE checks (\n",
    "        id_check NUMBER(10),\n",
    "        id_pos NUMBER(10),\n",
    "        art VARCHAR2(10),\n",
    "        quantity NUMBER(10),\n",
    "        CONSTRAINT PK_KEY_CHECKS PRIMARY KEY (id_check, id_pos),\n",
    "        CONSTRAINT FK_KEY_CHECKS FOREIGN KEY (art) REFERENCES checks(art))\n",
    "    \"\"\")\n",
    "\n",
    "# данные для cat\n",
    "cat_data = [\n",
    "    [\"A1\", \"кроссовки\", \"обувь\"],\n",
    "    [\"A2\", \"кеды\", \"обувь\"],\n",
    "    [\"A3\", \"сланцы\", \"обувь\"],\n",
    "    [\"A4\", \"куртка\", \"одежда\"],\n",
    "    [\"A5\", \"ветровка\", \"одежда\"],\n",
    "    [\"A6\", \"шорты\", \"одежда\"],\n",
    "    [\"A7\", \"палатка\", \"туризм\"],\n",
    "    [\"A8\", \"коврик\", \"туризм\"],\n",
    "    [\"A9\", \"спальник\", \"туризм\"],\n",
    "    [\"A10\", \"рюкзак\", \"туризм\"],\n",
    "]\n",
    "\n",
    "# данные для checks\n",
    "checks_data = [\n",
    "    [1, 1, \"A1\", 1],\n",
    "    [1, 2, \"A4\", 3],\n",
    "    [1, 3, \"A2\", 2],\n",
    "    [1, 4, \"A10\", 1],\n",
    "    [1, 5, \"A8\", 4],\n",
    "    [2, 1, \"A5\", 1],\n",
    "    [2, 2, \"A7\", 1],\n",
    "    [2, 3, \"A3\", 2],\n",
    "    [3, 1, \"A2\", 1],\n",
    "    [3, 2, \"A9\", 1],\n",
    "    [3, 3, \"A5\", 2],\n",
    "    [3, 4, \"A6\", 1],\n",
    "    [3, 5, \"A3\", 3],\n",
    "    [4, 1, \"A1\", 3],\n",
    "    [4, 2, \"A2\", 1],\n",
    "    [5, 1, \"A2\", 1],\n",
    "    [5, 2, \"A8\", 5],\n",
    "    [5, 3, \"A3\", 1],\n",
    "    [5, 4, \"A4\", 1],\n",
    "    [5, 5, \"A5\", 1],\n",
    "]\n",
    "\n",
    "# вставляем данные\n",
    "cur.executemany('INSERT OR REPLACE INTO checks VALUES (?, ?, ?, ?)', checks_data)\n",
    "cur.executemany('INSERT OR REPLACE INTO cat VALUES (?, ?, ?)', cat_data)\n",
    "\n",
    "conn.commit()\n",
    "conn.close()"
   ]
  },
  {
   "cell_type": "code",
   "execution_count": 3,
   "id": "668a78b4-583f-4ef4-8639-7c6e4f3eefc3",
   "metadata": {},
   "outputs": [
    {
     "data": {
      "text/html": [
       "<div>\n",
       "<style scoped>\n",
       "    .dataframe tbody tr th:only-of-type {\n",
       "        vertical-align: middle;\n",
       "    }\n",
       "\n",
       "    .dataframe tbody tr th {\n",
       "        vertical-align: top;\n",
       "    }\n",
       "\n",
       "    .dataframe thead th {\n",
       "        text-align: right;\n",
       "    }\n",
       "</style>\n",
       "<table border=\"1\" class=\"dataframe\">\n",
       "  <thead>\n",
       "    <tr style=\"text-align: right;\">\n",
       "      <th></th>\n",
       "      <th>checks_cnt</th>\n",
       "    </tr>\n",
       "  </thead>\n",
       "  <tbody>\n",
       "    <tr>\n",
       "      <th>0</th>\n",
       "      <td>2</td>\n",
       "    </tr>\n",
       "  </tbody>\n",
       "</table>\n",
       "</div>"
      ],
      "text/plain": [
       "   checks_cnt\n",
       "0           2"
      ]
     },
     "execution_count": 3,
     "metadata": {},
     "output_type": "execute_result"
    }
   ],
   "source": [
    "text = \"\"\"\n",
    "    SELECT COUNT(*) AS checks_cnt\n",
    "    FROM (\n",
    "        SELECT ch.id_check AS id_check\n",
    "        FROM checks ch JOIN cat c ON ch.art = c.art\n",
    "        GROUP BY ch.id_check\n",
    "        HAVING SUM(CASE WHEN c.category = \"обувь\" THEN ch.quantity ELSE 0 END) > 2 AND\n",
    "            SUM(CASE WHEN c.category = \"туризм\" THEN 1 ELSE 0 END) > 0\n",
    "    )\n",
    "\"\"\"\n",
    "conn = sqlite3.connect(\"test_SM.db\")\n",
    "cur = conn.cursor()\n",
    "\n",
    "cur.execute(text)\n",
    "res = cur.fetchall()\n",
    "res = pd.DataFrame(res)\n",
    "res.columns = [\"checks_cnt\"]\n",
    "res"
   ]
  },
  {
   "cell_type": "markdown",
   "id": "037bb086-c3db-4636-be62-a7689ac5cad9",
   "metadata": {},
   "source": [
    "## Задание 2. Python"
   ]
  },
  {
   "cell_type": "markdown",
   "id": "f9742b8f-a83a-4719-aaba-fbe3ac10c95d",
   "metadata": {},
   "source": [
    "Написать функцию split_list, которая::\n",
    "1) принимает на вход итерируемый объект (list, tuple, np.array и т.п.) и число N - кол-во частей, на которые нужно разделить исходный итерируемый объект;\n",
    "\n",
    "2) возвращает на выходе список из N-частей исходного итерируемого объекта.\n",
    "\n",
    "Ограничения на результат:\n",
    "\n",
    "1) Типы элементов, которые хранится внутри исходного итерируемого объекта, не должны измениться в результирующем списке:\n",
    "\n",
    "[[1,'a','b'], [2, 'c', 'd'], [3, 'e', 'f']], N=2 -> [[[1, 'a', 'b'], [2, 'c', 'd']], [[3, 'e', 'f']]] - хорошо\n",
    "\n",
    "[[1,'a','b'], [2, 'c', 'd'], [3, 'e', 'f']], N=2 -> [[['1', 'a', 'b'], ['2', 'c', 'd']], [['3', 'e', 'f']]] - плохо\n",
    "\n",
    "2) Элементы исходного итерируемого объекта должны быть максимально равномерно распределены между частями:\n",
    "\n",
    "[1,2,3,4,5,6,7,8,9], N=4 -> [[1,2,3], [4,5], [6,7], [8,9]] - хорошо\n",
    "\n",
    "[1,2,3,4,5,6,7,8,9], N=4 -> [[1], [2,3], [4,5,6], [7,8,9]] - плохо\n",
    "\n",
    "[1,2,3,4,5,6,7,8,9, 10], N=4 -> [[1,2,3], [4,5, 6], [7,8], [9, 10]] - хорошо\n",
    "\n",
    "[1,2,3,4,5,6,7,8,9, 10], N=4 -> [[1,2,3], [4,5, 6], [7,8,9], [10]] - плохо\n",
    "\n",
    "3) Разбиение должно сохранить порядок следования элементов в исходном списке\n",
    "\n",
    "[1,2,3,4,5,6,7,8,9], N=4 -> [[1,2,3], [4,5], [6,7], [8,9]] - хорошо\n",
    "\n",
    "[1,2,3,4,5,6,7,8,9], N=4 -> [[1,4,8], [2,5], [3,6], [7,9]] - плохо\n",
    "\n",
    "4) Части, на которые разобьется итерируемый объект, должны быть расположены в порядке убывания кол-ва элементов внутри этих частей.\n",
    "\n",
    "[1,2,3,4,5,6,7,8,9], N=4 -> [[1,2,3], [4,5], [6,7], [8,9]] - хорошо\n",
    "\n",
    "[1,2,3,4,5,6,7,8,9], N=4 -> [[1,2], [3,4], [5,6], [7,8,9]] - плохо\n"
   ]
  },
  {
   "cell_type": "code",
   "execution_count": 40,
   "id": "0ad5f0b8-e531-4f8e-8d3c-04f691bdc13c",
   "metadata": {},
   "outputs": [],
   "source": [
    "import math\n",
    "import numpy as np\n",
    "from typing import Iterable\n",
    "\n",
    "\n",
    "def split_list(input_obj: Iterable, n: int) -> list:\n",
    "    \"\"\"Функция для разбиения итерируемого объекта на N частей.\n",
    "    Суть в том, чтобы определить для каждой группы из N подходящее кол-во элементов из исходного итерируемого объекта.\n",
    "    1. Cами объекты никак не преобразуются, что гарантирует выполнение условия 1.\n",
    "    2. Равномерность распределения размеров групп выполняется, так как задействуется минимально \n",
    "        возможное уникальное число размеров групп, и разница размеров между соседними группами не более 1.\n",
    "    3. Порядок следования элементов исходного объекта сохряняется, \n",
    "        так как алгоритм забирает элементы из исходного объекта с начала, а присоединяет к концу нового (своего рода 'очередь').\n",
    "    4. Количество элементов будет в порядке убывания, так как при определении размеров групп значение округляется в большую сторону ``math.ceil``.\n",
    "\n",
    "    Parameters\n",
    "    ----------\n",
    "    input_obj : Iterable\n",
    "        Итерируемый объект, элементы которого нужно разбить на группы\n",
    "    n : int\n",
    "        Количество групп\n",
    "\n",
    "    Returns\n",
    "    -------\n",
    "    list\n",
    "        Список, содержащий группы разбиения\n",
    "\n",
    "    \"\"\"\n",
    "    assert len(input_obj) > 0, \"Исходный объект пустой\"\n",
    "    assert n > 0, \"Количество групп не может быть отрицательным числом или 0\"\n",
    "    assert isinstance(n, int), \"Количество групп не может быть выражено дробным числом\"\n",
    "\n",
    "    output_list = []\n",
    "\n",
    "    i = 0\n",
    "    temp_n = n\n",
    "\n",
    "    length = len(input_obj)\n",
    "\n",
    "    while temp_n > 0:\n",
    "        # определяем размер очередной группы\n",
    "        part_length = math.ceil(length / temp_n) \n",
    "\n",
    "        # логика переноса элементов в новый список\n",
    "        # отщипываем в новый массив часть исходного объекта по маске [i: i + part_length]\n",
    "        output_list.append(input_obj[i: i + part_length])\n",
    "\n",
    "        # обновляем кол-во оставшихся элементов в исходном объекте\n",
    "        length -= part_length\n",
    "        # обновляем 'курсор'\n",
    "        i += part_length\n",
    "        # обновляем кол-во групп, для которых еще не определено кол-во элементов\n",
    "        temp_n -= 1\n",
    "\n",
    "    return output_list"
   ]
  },
  {
   "cell_type": "markdown",
   "id": "9b1350ac-ea5c-438d-89a7-280077925c3c",
   "metadata": {},
   "source": [
    "### Тесты"
   ]
  },
  {
   "cell_type": "code",
   "execution_count": 41,
   "id": "a74332d1-7e40-4564-af98-a705dae05e31",
   "metadata": {},
   "outputs": [],
   "source": [
    "a = [[1,'a','b'], [2, 'c', 'd'], [3, 'e', 'f']]\n",
    "assert split_list(a, 2) == [[[1, 'a', 'b'], [2, 'c', 'd']], [[3, 'e', 'f']]]"
   ]
  },
  {
   "cell_type": "code",
   "execution_count": 42,
   "id": "825a1da8-0f5d-4bb5-a96a-ed7a9fc78b76",
   "metadata": {},
   "outputs": [],
   "source": [
    "a = [1,2,3,4,5,6,7,8,9]\n",
    "assert split_list(a, 4) == [[1,2,3], [4,5], [6,7], [8,9]]"
   ]
  },
  {
   "cell_type": "code",
   "execution_count": 43,
   "id": "b34a00b0-f3b9-4751-8741-733002b75585",
   "metadata": {},
   "outputs": [],
   "source": [
    "a = [1,2,3,4,5,6,7,8,9,10]\n",
    "assert split_list(a, 4) == [[1,2,3], [4,5, 6], [7,8], [9, 10]]"
   ]
  },
  {
   "cell_type": "code",
   "execution_count": 44,
   "id": "0e37d42d-1401-4fa3-a522-7b795369eec3",
   "metadata": {},
   "outputs": [
    {
     "name": "stdout",
     "output_type": "stream",
     "text": [
      "Исходный объект пустой\n"
     ]
    }
   ],
   "source": [
    "# дополнительные тесты\n",
    "try:\n",
    "    a = []\n",
    "    split_list(a, 2)\n",
    "except Exception as ex:\n",
    "    print(ex)"
   ]
  },
  {
   "cell_type": "code",
   "execution_count": 45,
   "id": "d3c6ab0c-a554-4b93-90ae-b5990cdc5705",
   "metadata": {},
   "outputs": [
    {
     "name": "stdout",
     "output_type": "stream",
     "text": [
      "Количество групп не может быть отрицательным числом или 0\n"
     ]
    }
   ],
   "source": [
    "# дополнительные тесты\n",
    "try:\n",
    "    a = [1,2,3,4,5,6,7,8,9]\n",
    "    split_list(a, 0)\n",
    "except Exception as ex:\n",
    "    print(ex)"
   ]
  },
  {
   "cell_type": "code",
   "execution_count": 46,
   "id": "31cda4ed-f0f9-4787-976f-5e471492ebc8",
   "metadata": {},
   "outputs": [
    {
     "name": "stdout",
     "output_type": "stream",
     "text": [
      "Количество групп не может быть выражено дробным числом\n"
     ]
    }
   ],
   "source": [
    "# дополнительные тесты\n",
    "try:\n",
    "    a = [1,2,3,4,5,6,7,8,9]\n",
    "    split_list(a, 1.5)\n",
    "except Exception as ex:\n",
    "    print(ex)"
   ]
  },
  {
   "cell_type": "code",
   "execution_count": 47,
   "id": "fe092b4a-28da-4f43-8e83-19847a748dfb",
   "metadata": {},
   "outputs": [],
   "source": [
    "# дополнительные тесты\n",
    "a = [1,2,3,4,5,6,7,8,9,10,11]\n",
    "assert split_list(a, 4) == [[1, 2, 3], [4, 5, 6], [7, 8, 9], [10, 11]]\n",
    "\n",
    "a = [1,2,3,4,5,6,7,8,9,10,11,12]\n",
    "assert split_list(a, 5) == [[1, 2, 3], [4, 5, 6], [7, 8], [9, 10], [11, 12]]\n",
    "\n",
    "a = [1,2,3,4,5,6,7,8,9,10,11,12,13]\n",
    "assert split_list(a, 4) == [[1, 2, 3, 4], [5, 6, 7], [8, 9, 10], [11, 12, 13]]\n",
    "\n",
    "a = [[1,2,3], [4,5], [6,7,8,9], [10]]\n",
    "assert split_list(a, 4) == [[[1, 2, 3]], [[4, 5]], [[6, 7, 8, 9]], [[10]]]\n",
    "\n",
    "a = [[1,2,3], [4,5], [6,7,8,9], [10]]\n",
    "assert split_list(a, 3) == [[[1, 2, 3], [4, 5]], [[6, 7, 8, 9]], [[10]]]\n",
    "\n",
    "a = tuple([2, 3, 4, 5, 6, 7, 8])\n",
    "assert split_list(a, 4) == [(2, 3), (4, 5), (6, 7), (8,)]\n",
    "\n",
    "a = np.array([2, 3, 4, 5, 6, 7, 8])\n",
    "assert all([np.array_equal(arr1, arr2) for arr1, arr2 in zip(split_list(a, 4),\n",
    "                                                             [np.array([2, 3]), np.array([4, 5]), np.array([6, 7]), np.array([8])])])\n"
   ]
  },
  {
   "cell_type": "code",
   "execution_count": null,
   "id": "79bc3849-17f9-4ca7-b5fc-80b4446fbdd7",
   "metadata": {},
   "outputs": [],
   "source": []
  }
 ],
 "metadata": {
  "kernelspec": {
   "display_name": "Python [conda env:base] *",
   "language": "python",
   "name": "conda-base-py"
  },
  "language_info": {
   "codemirror_mode": {
    "name": "ipython",
    "version": 3
   },
   "file_extension": ".py",
   "mimetype": "text/x-python",
   "name": "python",
   "nbconvert_exporter": "python",
   "pygments_lexer": "ipython3",
   "version": "3.13.5"
  }
 },
 "nbformat": 4,
 "nbformat_minor": 5
}
