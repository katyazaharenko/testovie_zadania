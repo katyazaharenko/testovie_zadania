{
 "cells": [
  {
   "cell_type": "markdown",
   "id": "0f2f2cd6-3907-4863-8193-794180565739",
   "metadata": {},
   "source": [
    "# Тестовое задание SMLab"
   ]
  },
  {
   "cell_type": "markdown",
   "id": "36bd8bcc-ee71-44b9-b30e-ca318e860a3a",
   "metadata": {},
   "source": [
    "## Задание 1. SQL."
   ]
  },
  {
   "cell_type": "markdown",
   "id": "ea62fd43-c46a-4dd3-bee1-4e50eac55305",
   "metadata": {},
   "source": [
    "Дана таблица с позициями чеков checks и с каталогом cat. Посчитать количество чеков, в которых куплено больше 2-х пар любой обуви и есть любой товар из категории туризм.\n",
    "Написать одним запросом на Oracle SQL."
   ]
  },
  {
   "cell_type": "code",
   "execution_count": 1,
   "id": "4897c85a-c8d9-4078-9bfe-c1f7c16574b3",
   "metadata": {},
   "outputs": [],
   "source": [
    "import sqlite3\n",
    "import pandas as pd"
   ]
  },
  {
   "cell_type": "code",
   "execution_count": 2,
   "id": "f60c6705-4192-49fe-97d2-d45c193fdcc3",
   "metadata": {},
   "outputs": [],
   "source": [
    "# создаём (или открываем) базу\n",
    "conn = sqlite3.connect(\"test_SM.db\")\n",
    "cur = conn.cursor()\n",
    "\n",
    "# создаём таблицу cat\n",
    "cur.execute(\"\"\"\n",
    "    CREATE TABLE cat (\n",
    "        art VARCHAR2(10) PRIMARY KEY,\n",
    "        product VARCHAR2(30),\n",
    "        category VARCHAR2(30))\n",
    "    \"\"\")\n",
    "\n",
    "# создаём таблицу checks\n",
    "cur.execute(\"\"\"\n",
    "    CREATE TABLE checks (\n",
    "        id_check NUMBER(10),\n",
    "        id_pos NUMBER(10),\n",
    "        art VARCHAR2(10),\n",
    "        quantity NUMBER(10),\n",
    "        CONSTRAINT PK_KEY_CHECKS PRIMARY KEY (id_check, id_pos),\n",
    "        CONSTRAINT FK_KEY_CHECKS FOREIGN KEY (art) REFERENCES checks(art))\n",
    "    \"\"\")\n",
    "\n",
    "# данные для cat\n",
    "cat_data = [\n",
    "    [\"A1\", \"кроссовки\", \"обувь\"],\n",
    "    [\"A2\", \"кеды\", \"обувь\"],\n",
    "    [\"A3\", \"сланцы\", \"обувь\"],\n",
    "    [\"A4\", \"куртка\", \"одежда\"],\n",
    "    [\"A5\", \"ветровка\", \"одежда\"],\n",
    "    [\"A6\", \"шорты\", \"одежда\"],\n",
    "    [\"A7\", \"палатка\", \"туризм\"],\n",
    "    [\"A8\", \"коврик\", \"туризм\"],\n",
    "    [\"A9\", \"спальник\", \"туризм\"],\n",
    "    [\"A10\", \"рюкзак\", \"туризм\"],\n",
    "]\n",
    "\n",
    "# данные для checks\n",
    "checks_data = [\n",
    "    [1, 1, \"A1\", 1],\n",
    "    [1, 2, \"A4\", 3],\n",
    "    [1, 3, \"A2\", 2],\n",
    "    [1, 4, \"A10\", 1],\n",
    "    [1, 5, \"A8\", 4],\n",
    "    [2, 1, \"A5\", 1],\n",
    "    [2, 2, \"A7\", 1],\n",
    "    [2, 3, \"A3\", 2],\n",
    "    [3, 1, \"A2\", 1],\n",
    "    [3, 2, \"A9\", 1],\n",
    "    [3, 3, \"A5\", 2],\n",
    "    [3, 4, \"A6\", 1],\n",
    "    [3, 5, \"A3\", 3],\n",
    "    [4, 1, \"A1\", 3],\n",
    "    [4, 2, \"A2\", 1],\n",
    "    [5, 1, \"A2\", 1],\n",
    "    [5, 2, \"A8\", 5],\n",
    "    [5, 3, \"A3\", 1],\n",
    "    [5, 4, \"A4\", 1],\n",
    "    [5, 5, \"A5\", 1],\n",
    "]\n",
    "\n",
    "# вставляем данные\n",
    "cur.executemany('INSERT OR REPLACE INTO checks VALUES (?, ?, ?, ?)', checks_data)\n",
    "cur.executemany('INSERT OR REPLACE INTO cat VALUES (?, ?, ?)', cat_data)\n",
    "\n",
    "conn.commit()\n",
    "conn.close()"
   ]
  },
  {
   "cell_type": "code",
   "execution_count": 3,
   "id": "668a78b4-583f-4ef4-8639-7c6e4f3eefc3",
   "metadata": {},
   "outputs": [
    {
     "data": {
      "text/html": [
       "<div>\n",
       "<style scoped>\n",
       "    .dataframe tbody tr th:only-of-type {\n",
       "        vertical-align: middle;\n",
       "    }\n",
       "\n",
       "    .dataframe tbody tr th {\n",
       "        vertical-align: top;\n",
       "    }\n",
       "\n",
       "    .dataframe thead th {\n",
       "        text-align: right;\n",
       "    }\n",
       "</style>\n",
       "<table border=\"1\" class=\"dataframe\">\n",
       "  <thead>\n",
       "    <tr style=\"text-align: right;\">\n",
       "      <th></th>\n",
       "      <th>checks_cnt</th>\n",
       "    </tr>\n",
       "  </thead>\n",
       "  <tbody>\n",
       "    <tr>\n",
       "      <th>0</th>\n",
       "      <td>2</td>\n",
       "    </tr>\n",
       "  </tbody>\n",
       "</table>\n",
       "</div>"
      ],
      "text/plain": [
       "   checks_cnt\n",
       "0           2"
      ]
     },
     "execution_count": 3,
     "metadata": {},
     "output_type": "execute_result"
    }
   ],
   "source": [
    "text = \"\"\"\n",
    "    SELECT COUNT(*) AS checks_cnt\n",
    "    FROM (\n",
    "        SELECT ch.id_check AS id_check\n",
    "        FROM checks ch JOIN cat c ON ch.art = c.art\n",
    "        GROUP BY ch.id_check\n",
    "        HAVING SUM(CASE WHEN c.category = \"обувь\" THEN ch.quantity ELSE 0 END) > 2 AND\n",
    "            SUM(CASE WHEN c.category = \"туризм\" THEN 1 ELSE 0 END) > 0\n",
    "    )\n",
    "\"\"\"\n",
    "conn = sqlite3.connect(\"test_SM.db\")\n",
    "cur = conn.cursor()\n",
    "\n",
    "cur.execute(text)\n",
    "res = cur.fetchall()\n",
    "res = pd.DataFrame(res)\n",
    "res.columns = [\"checks_cnt\"]\n",
    "res"
   ]
  },
  {
   "cell_type": "code",
   "execution_count": null,
   "id": "3de482b7-dcb7-4a2d-abc1-c40b3fe650b0",
   "metadata": {},
   "outputs": [],
   "source": []
  }
 ],
 "metadata": {
  "kernelspec": {
   "display_name": "Python [conda env:base] *",
   "language": "python",
   "name": "conda-base-py"
  },
  "language_info": {
   "codemirror_mode": {
    "name": "ipython",
    "version": 3
   },
   "file_extension": ".py",
   "mimetype": "text/x-python",
   "name": "python",
   "nbconvert_exporter": "python",
   "pygments_lexer": "ipython3",
   "version": "3.13.5"
  }
 },
 "nbformat": 4,
 "nbformat_minor": 5
}
