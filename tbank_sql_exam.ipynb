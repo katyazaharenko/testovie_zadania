{
 "cells": [
  {
   "cell_type": "markdown",
   "id": "de42310d-f59e-4037-a896-0b1b659ba4f2",
   "metadata": {},
   "source": [
    "# Экзамен по SQL"
   ]
  },
  {
   "cell_type": "code",
   "execution_count": 1,
   "id": "74596dec-abe6-4cb1-84f8-e5498121bccd",
   "metadata": {},
   "outputs": [],
   "source": [
    "import pandas as pd"
   ]
  },
  {
   "cell_type": "code",
   "execution_count": 2,
   "id": "e1f2fbd8-2a25-47a1-a8a6-b74f80c72ce6",
   "metadata": {},
   "outputs": [],
   "source": [
    "import sqlite3"
   ]
  },
  {
   "cell_type": "code",
   "execution_count": 3,
   "id": "ed1af2e2-9a7e-4014-8ce2-dd38e60180fb",
   "metadata": {},
   "outputs": [],
   "source": [
    "conn = sqlite3.connect(\"test_tbankd.db\")\n",
    "cursor = conn.cursor()"
   ]
  },
  {
   "cell_type": "code",
   "execution_count": 5,
   "id": "f9b198cc-45ca-4148-8644-fdb0c28d4bd0",
   "metadata": {},
   "outputs": [],
   "source": [
    "customers_df = pd.DataFrame({\"cust_id\": [\"C1\", \"C2\", \"C3\"],\n",
    "                             \"cust_name\": [\"N1\", \"N2\", \"N3\"],\n",
    "                             \"city\": [\"Москва\", \"Санкт-Петербург\", \"Казань\"],\n",
    "                             \"singup_date\": [\"2023-01-05\",\n",
    "                                             \"2023-01-12\",\n",
    "                                             \"2023-01-20\"]})"
   ]
  },
  {
   "cell_type": "code",
   "execution_count": 50,
   "id": "4d0205da-cddc-4948-8925-3a1426b0beaf",
   "metadata": {},
   "outputs": [],
   "source": [
    "orders_df = pd.DataFrame({\"order_id\": [\"O1\", \"O2\", \"O3\", \"O4\", \"O5\", \"O6\", \"07\"],\n",
    "                          \"cust_id\": [\"C1\", \"C2\", \"C1\", \"C3\", \"C2\", \"C3\", \"C1\"],\n",
    "                          \"restaurant\": ['ПиццаНЯМ', 'СушиДом', 'БургерСпа', 'Лапша-Бар', 'СушиДом', 'Лапша-Бар', 'ЛОСЬ'],\n",
    "                          \"order_date\": [\"2023-02-01\", \"2023-02-03\",\n",
    "                                         \"2023-02-10\", \"2023-02-12\", \"2023-02-12\", \"2023-02-12\", '2024-02-12'],\n",
    "                          \"total\": [1200.00, 1800.50, 750.00, 900.00, 1950.00, 100.00, 600.00],\n",
    "                          \"status\": [\"completed\", \"cancelled\", \"completed\", 'completed', 'completed', 'completed', 'cancelled']})"
   ]
  },
  {
   "cell_type": "code",
   "execution_count": 8,
   "id": "93916de3-38b7-4edf-bfba-b33f0ba7caf9",
   "metadata": {},
   "outputs": [],
   "source": [
    "feedback_df = pd.DataFrame({\"feedback_id\": [\"f1\", \"f2\", \"f3\"],\n",
    "                          \"order_id\": [\"01\", \"03\", \"04\"],\n",
    "                          \"rating\": [5, 4, 5],\n",
    "                          \"feedback_date\": [\"2023-02-01\", \"2023-02-11\", \"2023-02-12\"]})"
   ]
  },
  {
   "cell_type": "code",
   "execution_count": 9,
   "id": "c4fe385e-82fe-4a56-99b9-024669db68d6",
   "metadata": {},
   "outputs": [
    {
     "data": {
      "text/html": [
       "<div>\n",
       "<style scoped>\n",
       "    .dataframe tbody tr th:only-of-type {\n",
       "        vertical-align: middle;\n",
       "    }\n",
       "\n",
       "    .dataframe tbody tr th {\n",
       "        vertical-align: top;\n",
       "    }\n",
       "\n",
       "    .dataframe thead th {\n",
       "        text-align: right;\n",
       "    }\n",
       "</style>\n",
       "<table border=\"1\" class=\"dataframe\">\n",
       "  <thead>\n",
       "    <tr style=\"text-align: right;\">\n",
       "      <th></th>\n",
       "      <th>feedback_id</th>\n",
       "      <th>order_id</th>\n",
       "      <th>rating</th>\n",
       "      <th>feedback_date</th>\n",
       "    </tr>\n",
       "  </thead>\n",
       "  <tbody>\n",
       "    <tr>\n",
       "      <th>0</th>\n",
       "      <td>f1</td>\n",
       "      <td>01</td>\n",
       "      <td>5</td>\n",
       "      <td>2023-02-01</td>\n",
       "    </tr>\n",
       "    <tr>\n",
       "      <th>1</th>\n",
       "      <td>f2</td>\n",
       "      <td>03</td>\n",
       "      <td>4</td>\n",
       "      <td>2023-02-11</td>\n",
       "    </tr>\n",
       "    <tr>\n",
       "      <th>2</th>\n",
       "      <td>f3</td>\n",
       "      <td>04</td>\n",
       "      <td>5</td>\n",
       "      <td>2023-02-12</td>\n",
       "    </tr>\n",
       "  </tbody>\n",
       "</table>\n",
       "</div>"
      ],
      "text/plain": [
       "  feedback_id order_id  rating feedback_date\n",
       "0          f1       01       5    2023-02-01\n",
       "1          f2       03       4    2023-02-11\n",
       "2          f3       04       5    2023-02-12"
      ]
     },
     "execution_count": 9,
     "metadata": {},
     "output_type": "execute_result"
    }
   ],
   "source": [
    "feedback_df.head()"
   ]
  },
  {
   "cell_type": "code",
   "execution_count": 10,
   "id": "4686cbe5-eefb-4fe1-a65e-3f1731407386",
   "metadata": {},
   "outputs": [
    {
     "data": {
      "text/plain": [
       "3"
      ]
     },
     "execution_count": 10,
     "metadata": {},
     "output_type": "execute_result"
    }
   ],
   "source": [
    "feedback_df.to_sql(\"feedback\", conn, index=False)"
   ]
  },
  {
   "cell_type": "code",
   "execution_count": 53,
   "id": "27dd4cef-433b-484a-b7e2-2e63e93ec063",
   "metadata": {},
   "outputs": [
    {
     "data": {
      "text/plain": [
       "7"
      ]
     },
     "execution_count": 53,
     "metadata": {},
     "output_type": "execute_result"
    }
   ],
   "source": [
    "orders_df.to_sql(\"orders\", conn, index=False)"
   ]
  },
  {
   "cell_type": "code",
   "execution_count": 12,
   "id": "003d73a0-418a-4345-a411-d24ac9a2b903",
   "metadata": {},
   "outputs": [
    {
     "data": {
      "text/plain": [
       "3"
      ]
     },
     "execution_count": 12,
     "metadata": {},
     "output_type": "execute_result"
    }
   ],
   "source": [
    "customers_df.to_sql(\"customers\", conn, index=False)"
   ]
  },
  {
   "cell_type": "code",
   "execution_count": 55,
   "id": "a9625fbf-7a41-46a4-9af1-1813190e306b",
   "metadata": {},
   "outputs": [
    {
     "data": {
      "text/html": [
       "<div>\n",
       "<style scoped>\n",
       "    .dataframe tbody tr th:only-of-type {\n",
       "        vertical-align: middle;\n",
       "    }\n",
       "\n",
       "    .dataframe tbody tr th {\n",
       "        vertical-align: top;\n",
       "    }\n",
       "\n",
       "    .dataframe thead th {\n",
       "        text-align: right;\n",
       "    }\n",
       "</style>\n",
       "<table border=\"1\" class=\"dataframe\">\n",
       "  <thead>\n",
       "    <tr style=\"text-align: right;\">\n",
       "      <th></th>\n",
       "      <th>0</th>\n",
       "    </tr>\n",
       "  </thead>\n",
       "  <tbody>\n",
       "    <tr>\n",
       "      <th>0</th>\n",
       "      <td>5</td>\n",
       "    </tr>\n",
       "  </tbody>\n",
       "</table>\n",
       "</div>"
      ],
      "text/plain": [
       "   0\n",
       "0  5"
      ]
     },
     "execution_count": 55,
     "metadata": {},
     "output_type": "execute_result"
    }
   ],
   "source": [
    "text = \"\"\"\n",
    "    SELECT COUNT(order_id)\n",
    "    FROM orders\n",
    "    WHERE status == 'completed';\n",
    "\"\"\"\n",
    "\n",
    "cursor.execute(text)\n",
    "res = cursor.fetchall()\n",
    "res = pd.DataFrame(res)\n",
    "res"
   ]
  },
  {
   "cell_type": "code",
   "execution_count": 52,
   "id": "90a8d68e-61bc-4ead-96ec-b98f784663d3",
   "metadata": {},
   "outputs": [],
   "source": [
    "# cursor.execute(\"DROP TABLE orders;\")\n",
    "# conn.commit()"
   ]
  },
  {
   "cell_type": "code",
   "execution_count": 54,
   "id": "3a1c38ac-315f-4cc8-9275-eda5d1f90f1c",
   "metadata": {},
   "outputs": [
    {
     "data": {
      "text/html": [
       "<div>\n",
       "<style scoped>\n",
       "    .dataframe tbody tr th:only-of-type {\n",
       "        vertical-align: middle;\n",
       "    }\n",
       "\n",
       "    .dataframe tbody tr th {\n",
       "        vertical-align: top;\n",
       "    }\n",
       "\n",
       "    .dataframe thead th {\n",
       "        text-align: right;\n",
       "    }\n",
       "</style>\n",
       "<table border=\"1\" class=\"dataframe\">\n",
       "  <thead>\n",
       "    <tr style=\"text-align: right;\">\n",
       "      <th></th>\n",
       "      <th>0</th>\n",
       "    </tr>\n",
       "  </thead>\n",
       "  <tbody>\n",
       "    <tr>\n",
       "      <th>0</th>\n",
       "      <td>Москва</td>\n",
       "    </tr>\n",
       "  </tbody>\n",
       "</table>\n",
       "</div>"
      ],
      "text/plain": [
       "        0\n",
       "0  Москва"
      ]
     },
     "execution_count": 54,
     "metadata": {},
     "output_type": "execute_result"
    }
   ],
   "source": [
    "\"\"\"\n",
    "Напишите запрос, который выведет город с наибольшей суммарной \n",
    "выручкой по завершённым заказам. \n",
    "Если таких городов несколько, выберите тот, \n",
    "чьё название идёт первым по алфавиту.\n",
    "\"\"\"\n",
    "\n",
    "text = \"\"\"\n",
    "    WITH cities_total AS\n",
    "    (SELECT c.city AS city, SUM(o.total) AS total\n",
    "    FROM customers c INNER JOIN orders o ON c.cust_id = o.cust_id\n",
    "    WHERE o.status == 'completed'\n",
    "    GROUP BY c.city)\n",
    "    SELECT city\n",
    "    FROM cities_total\n",
    "    WHERE total = (SELECT MAX(total)\n",
    "                   FROM cities_total)\n",
    "    ORDER BY city\n",
    "    LIMIT 1;\n",
    "\"\"\"\n",
    "\n",
    "cursor.execute(text)\n",
    "res = cursor.fetchall()\n",
    "res = pd.DataFrame(res)\n",
    "res"
   ]
  },
  {
   "cell_type": "code",
   "execution_count": 43,
   "id": "f69f6f18-a847-4b05-9732-b0a6dd1c8e1b",
   "metadata": {},
   "outputs": [
    {
     "data": {
      "text/html": [
       "<div>\n",
       "<style scoped>\n",
       "    .dataframe tbody tr th:only-of-type {\n",
       "        vertical-align: middle;\n",
       "    }\n",
       "\n",
       "    .dataframe tbody tr th {\n",
       "        vertical-align: top;\n",
       "    }\n",
       "\n",
       "    .dataframe thead th {\n",
       "        text-align: right;\n",
       "    }\n",
       "</style>\n",
       "<table border=\"1\" class=\"dataframe\">\n",
       "  <thead>\n",
       "    <tr style=\"text-align: right;\">\n",
       "      <th></th>\n",
       "      <th>0</th>\n",
       "    </tr>\n",
       "  </thead>\n",
       "  <tbody>\n",
       "    <tr>\n",
       "      <th>0</th>\n",
       "      <td>4.67</td>\n",
       "    </tr>\n",
       "  </tbody>\n",
       "</table>\n",
       "</div>"
      ],
      "text/plain": [
       "      0\n",
       "0  4.67"
      ]
     },
     "execution_count": 43,
     "metadata": {},
     "output_type": "execute_result"
    }
   ],
   "source": [
    "\"\"\"\n",
    "Напишите запрос, который выведет среднюю оценку \n",
    "по всем отзывам (округлите до 2 знаков)\n",
    "\n",
    "\"\"\"\n",
    "\n",
    "text = \"\"\"\n",
    "    SELECT ROUND(AVG(rating), 2) as avg_rating\n",
    "    FROM feedback;\n",
    "\"\"\"\n",
    "\n",
    "cursor.execute(text)\n",
    "res = cursor.fetchall()\n",
    "res = pd.DataFrame(res)\n",
    "res"
   ]
  },
  {
   "cell_type": "code",
   "execution_count": 81,
   "id": "add8ba57-9da1-4e1b-b67c-4f681f86b558",
   "metadata": {},
   "outputs": [
    {
     "data": {
      "text/html": [
       "<div>\n",
       "<style scoped>\n",
       "    .dataframe tbody tr th:only-of-type {\n",
       "        vertical-align: middle;\n",
       "    }\n",
       "\n",
       "    .dataframe tbody tr th {\n",
       "        vertical-align: top;\n",
       "    }\n",
       "\n",
       "    .dataframe thead th {\n",
       "        text-align: right;\n",
       "    }\n",
       "</style>\n",
       "<table border=\"1\" class=\"dataframe\">\n",
       "  <thead>\n",
       "    <tr style=\"text-align: right;\">\n",
       "      <th></th>\n",
       "      <th>0</th>\n",
       "    </tr>\n",
       "  </thead>\n",
       "  <tbody>\n",
       "    <tr>\n",
       "      <th>0</th>\n",
       "      <td>Лапша-Бар</td>\n",
       "    </tr>\n",
       "  </tbody>\n",
       "</table>\n",
       "</div>"
      ],
      "text/plain": [
       "           0\n",
       "0  Лапша-Бар"
      ]
     },
     "execution_count": 81,
     "metadata": {},
     "output_type": "execute_result"
    }
   ],
   "source": [
    "\"\"\"\n",
    "Напишите запрос, который выведет ресторан \n",
    "с наибольшим числом повторных клиентов.\n",
    "Повторный клиент — это клиент, у которого в данном ресторане \n",
    "как минимум 2 завершённых заказа (status = 'completed').\n",
    "При равенстве числа повторных клиентов:\n",
    " выбирайте ресторан с большим количеством завершённых заказов;\n",
    "при новом равенстве — ресторан с названием, \n",
    "идущим раньше по алфавиту.\n",
    "\n",
    "\"\"\"\n",
    "\n",
    "text = \"\"\"\n",
    "    WITH clients_stats AS (\n",
    "    SELECT restaurant, cust_id, COUNT(*) AS repeated_orders_cnt\n",
    "    FROM orders\n",
    "    WHERE status = 'completed'\n",
    "    GROUP BY restaurant, cust_id\n",
    "    HAVING repeated_orders_cnt >= 2),\n",
    "\n",
    "    repeated_clients_stats AS (\n",
    "    SELECT restaurant, COUNT(cust_id) AS repeated_clients_cnt\n",
    "    FROM clients_stats\n",
    "    GROUP BY restaurant),\n",
    "\n",
    "    rest_stats AS (\n",
    "    SELECT restaurant, COUNT(order_id) AS comp_orders_cnt\n",
    "    FROM orders\n",
    "    WHERE status = 'completed'\n",
    "    GROUP BY restaurant),\n",
    "\n",
    "    total_stats AS (\n",
    "    SELECT DISTINCT o.restaurant as restaurant, COALESCE(cs.repeated_clients_cnt, 0) as repeated_clients_cnt,\n",
    "        COALESCE(rs.comp_orders_cnt, 0) as comp_orders_cnt\n",
    "    FROM orders o LEFT JOIN repeated_clients_stats cs ON o.restaurant = cs.restaurant\n",
    "        LEFT JOIN rest_stats rs ON o.restaurant = rs.restaurant)\n",
    "    SELECT restaurant\n",
    "    FROM total_stats\n",
    "    WHERE repeated_clients_cnt = (SELECT MAX(repeated_clients_cnt)\n",
    "                                 FROM total_stats)\n",
    "    ORDER BY comp_orders_cnt DESC, restaurant\n",
    "    LIMIT 1;\n",
    "\"\"\"\n",
    "\n",
    "cursor.execute(text)\n",
    "res = cursor.fetchall()\n",
    "res = pd.DataFrame(res)\n",
    "res"
   ]
  },
  {
   "cell_type": "code",
   "execution_count": null,
   "id": "dc581ec1-ea86-4a5c-8fc7-6fdc6ac9635a",
   "metadata": {},
   "outputs": [],
   "source": []
  }
 ],
 "metadata": {
  "kernelspec": {
   "display_name": "Python [conda env:base] *",
   "language": "python",
   "name": "conda-base-py"
  },
  "language_info": {
   "codemirror_mode": {
    "name": "ipython",
    "version": 3
   },
   "file_extension": ".py",
   "mimetype": "text/x-python",
   "name": "python",
   "nbconvert_exporter": "python",
   "pygments_lexer": "ipython3",
   "version": "3.13.5"
  }
 },
 "nbformat": 4,
 "nbformat_minor": 5
}
