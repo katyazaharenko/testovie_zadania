{
 "cells": [
  {
   "cell_type": "code",
   "execution_count": 29,
   "id": "a3829c1a-7cac-45c3-b6c1-f16dde988bb0",
   "metadata": {},
   "outputs": [
    {
     "name": "stdout",
     "output_type": "stream",
     "text": [
      "Таблица 'nakladnye' создана в локальной базе.\n",
      "Данные успешно добавлены.\n",
      "(1, 'МТС', 'МТС', 'Иванов И.И.', 1000)\n",
      "(2, 'Иванов И.И.', 'Иванов И.И.', 'МТС', 2000)\n",
      "(3, 'МТС', 'Иванов И.И.', 'МТС', 4500)\n",
      "(4, 'Иванов И.И.', 'МТС', 'МТС', 2000)\n",
      "(5, 'Андреев Р.', 'Иванов И.И.', 'Иванов И.И.', 3000)\n"
     ]
    }
   ],
   "source": [
    "from sqlalchemy import create_engine, Table, Column, Integer, String, Numeric, MetaData, text\n",
    "import pandas as pd\n",
    "\n",
    "# === создаём локальную базу SQLite (файл появится в текущей папке) ===\n",
    "engine = create_engine('sqlite:///nakladnyeDB.db', echo=False)\n",
    "metadata = MetaData()\n",
    "\n",
    "# === описание таблицы ===\n",
    "nakladnye = Table(\n",
    "    'nakladnye', metadata,\n",
    "    Column('Накладная номер', Integer, primary_key=True),\n",
    "    Column('Отправитель', String(100)),\n",
    "    Column('Получатель', String(100)),\n",
    "    Column('Плательщик', String(100)),\n",
    "    Column('Сумма', Numeric(10, 2))\n",
    ")\n",
    "\n",
    "metadata.drop_all(engine, tables=[nakladnye])\n",
    "metadata.create_all(engine)\n",
    "print(\"Таблица 'nakladnye' создана в локальной базе.\")\n",
    "\n",
    "# === данные ===\n",
    "data = [\n",
    "    (1, 'МТС', 'МТС', 'Иванов И.И.', 1000),\n",
    "    (2, 'Иванов И.И.', 'Иванов И.И.', 'МТС', 2000),\n",
    "    (3, 'МТС', 'Иванов И.И.', 'МТС', 4500),\n",
    "    (4, 'Иванов И.И.', 'МТС', 'МТС', 2000),\n",
    "    (5, 'Андреев Р.', 'Иванов И.И.', 'Иванов И.И.', 3000)\n",
    "]\n",
    "\n",
    "df = pd.DataFrame(data, columns=['Накладная номер', 'Отправитель', 'Получатель', 'Плательщик', 'Сумма'])\n",
    "\n",
    "# === записываем данные ===\n",
    "df.to_sql('nakladnye', con=engine, if_exists='replace', index=False)\n",
    "print(\"Данные успешно добавлены.\")\n",
    "\n",
    "# === проверяем ===\n",
    "with engine.connect() as conn:\n",
    "    text_sql = \"\"\"SELECT *\n",
    "                  FROM nakladnye\"\"\"\n",
    "    result = conn.execute(text(text_sql))\n",
    "    for row in result:\n",
    "        print(row)"
   ]
  },
  {
   "cell_type": "code",
   "execution_count": 30,
   "id": "99768da7-8367-4e09-895d-033f1d51e26c",
   "metadata": {},
   "outputs": [
    {
     "name": "stdout",
     "output_type": "stream",
     "text": [
      "('Иванов И.И.', 12500)\n",
      "('МТС', 9500)\n",
      "('Андреев Р.', 3000)\n"
     ]
    }
   ],
   "source": [
    "with engine.connect() as conn:\n",
    "    text_sql = \"\"\"WITH sender AS (\n",
    "                    SELECT [Накладная номер], [Отправитель] AS [Клиент], [Сумма]\n",
    "                    FROM nakladnye\n",
    "                    ),\n",
    "                  recipient AS (\n",
    "                    SELECT [Накладная номер], [Получатель] AS [Клиент], [Сумма]\n",
    "                    FROM nakladnye\n",
    "                    ),\n",
    "                  payer AS (\n",
    "                    SELECT [Накладная номер], [Плательщик] AS [Клиент], [Сумма]\n",
    "                    FROM nakladnye\n",
    "                    ),\n",
    "                  total AS (\n",
    "                    SELECT *\n",
    "                    FROM sender\n",
    "                    UNION ALL\n",
    "                    SELECT *\n",
    "                    FROM recipient\n",
    "                    UNION ALL\n",
    "                    SELECT *\n",
    "                    FROM payer)\n",
    "                  SELECT [Клиент], SUM([Сумма]) as [Сумма]\n",
    "                  FROM (SELECT DISTINCT *\n",
    "                        FROM total)\n",
    "                  GROUP BY [Клиент]\n",
    "                  ORDER BY SUM([Сумма]) DESC\n",
    "                  \"\"\"\n",
    "    result = conn.execute(text(text_sql))\n",
    "    for row in result:\n",
    "        print(row)"
   ]
  },
  {
   "cell_type": "code",
   "execution_count": null,
   "id": "4b98ec2d-91d3-4c98-adfe-74c2b8d4f5c0",
   "metadata": {},
   "outputs": [],
   "source": []
  }
 ],
 "metadata": {
  "kernelspec": {
   "display_name": "Python [conda env:base] *",
   "language": "python",
   "name": "conda-base-py"
  },
  "language_info": {
   "codemirror_mode": {
    "name": "ipython",
    "version": 3
   },
   "file_extension": ".py",
   "mimetype": "text/x-python",
   "name": "python",
   "nbconvert_exporter": "python",
   "pygments_lexer": "ipython3",
   "version": "3.13.5"
  }
 },
 "nbformat": 4,
 "nbformat_minor": 5
}
