{
 "cells": [
  {
   "cell_type": "markdown",
   "id": "bb1f4f7e-308e-4aa2-a54b-b1fd7ab28081",
   "metadata": {},
   "source": [
    "# Тестовое задание\n",
    "\n",
    "## Задание №1.\n",
    "В данном блоке заданий у Вас имеются 2 таблицы:\n",
    "\n",
    "CLIENTS:\n",
    "Client_id\tClient_Type\tClient Address\tClient_FIO\n",
    "1\tПенсионер\tГ.Москва, ул. Строителей, 3-2-234\tИванов И.И\n",
    "2\tУчащийся\tГ.Подольск, ул. Ленина, 13\tПетров П.П.\n",
    "3\tРаботающий\tГ.Пенза, ул. Василевского, 15\tКирилов К.К.\n",
    "4\tРабот. Пенсионер\tР.п. Лунино, ул. Главная, 18\tСидоров С.С.\n",
    "\n",
    "DOCUMENTS:\n",
    "Client_id\tValid_from\tValid_to\tDocument_type\tDocument_no\tIncome\n",
    "1\t2010-01-01\t2010-12-01\tПаспорт\t111111-11\t10 000\n",
    "1\t2012-12-01\t2012-06-01\tПаспорт\t111111-11\t11 000\n",
    "1\t2012-06-01\t2220-01-01\tПаспорт\t333333-33\t11 000\n",
    "2\t2001-01-01\t2220-01-01\tПаспорт\t123123-44\t5 000\n",
    "\n",
    "\n",
    "В таблице с документами есть версионность, т.е. мы храним всю историю документов, которая у нас есть. Например, у клиента с №1:\n",
    "Client_id\tValid_from\tValid_to\tDocument_type\tDocument_no\tIncome\n",
    "1\t2010-01-01\t2010-12-01\tПаспорт\t111111-11\t10 000\n",
    "1\t2012-12-01\t2012-06-01\tПаспорт\t111111-11\t11 000\n",
    "1\t2012-06-01\t2220-01-01\tПаспорт\t333333-33\t11 000\n",
    "с 01.янв.2010 по 01.дек.2010 года был документ 111111-11, доход 10 000\n",
    "с 01.дек.2010 по 01.июн.2012 документ не меняется, доход меняется 11 000\n",
    "с 01.июн.2012 по текущий момент, документ стал 333333-33, доход не изменился, 11 000\n",
    "\n",
    "Обратите внимание, 2220-01-01 – фиктивная, «бесконечно большая дата». По ней мы идентифицируем, текущую/последнюю версию документа."
   ]
  },
  {
   "cell_type": "code",
   "execution_count": 15,
   "id": "58e9ff18-8e75-43f0-ab04-2c239b15a304",
   "metadata": {},
   "outputs": [],
   "source": [
    "import pandas as pd"
   ]
  },
  {
   "cell_type": "code",
   "execution_count": 11,
   "id": "fbc1bcb5-2fda-4f03-91c1-71101485a8da",
   "metadata": {},
   "outputs": [
    {
     "name": "stdout",
     "output_type": "stream",
     "text": [
      "База данных clients.db успешно создана и заполнена.\n"
     ]
    }
   ],
   "source": [
    "import sqlite3\n",
    "from datetime import date\n",
    "\n",
    "# Подключаемся к базе (создаст файл, если нет)\n",
    "conn = sqlite3.connect(\"clients.db\")\n",
    "cursor = conn.cursor()\n",
    "\n",
    "# Удалим таблицы, если уже есть (для чистоты)\n",
    "cursor.execute(\"DROP TABLE IF EXISTS DOCUMENTS;\")\n",
    "cursor.execute(\"DROP TABLE IF EXISTS CLIENTS;\")\n",
    "\n",
    "# Создание таблицы клиентов\n",
    "cursor.execute(\"\"\"\n",
    "CREATE TABLE CLIENTS (\n",
    "    Client_id INTEGER PRIMARY KEY,\n",
    "    Client_Type TEXT,\n",
    "    Client_Address TEXT,\n",
    "    Client_FIO TEXT\n",
    ");\n",
    "\"\"\")\n",
    "\n",
    "# Создание таблицы документов\n",
    "cursor.execute(\"\"\"\n",
    "CREATE TABLE DOCUMENTS (\n",
    "    id INTEGER PRIMARY KEY AUTOINCREMENT,\n",
    "    Client_id INTEGER,\n",
    "    Valid_from DATE,\n",
    "    Valid_to DATE,\n",
    "    Document_type TEXT,\n",
    "    Document_no TEXT,\n",
    "    Income NUMERIC,\n",
    "    FOREIGN KEY (Client_id) REFERENCES CLIENTS(Client_id)\n",
    ");\n",
    "\"\"\")\n",
    "\n",
    "# Данные клиентов\n",
    "clients_data = [\n",
    "    (1, \"Пенсионер\", \"Г.Москва, ул. Строителей, 3-2-234\", \"Иванов И.И.\"),\n",
    "    (2, \"Учащийся\", \"Г.Подольск, ул. Ленина, 13\", \"Петров П.П.\"),\n",
    "    (3, \"Работающий\", \"Г.Пенза, ул. Василевского, 15\", \"Кирилов К.К.\"),\n",
    "    (4, \"Работ. Пенсионер\", \"Р.п. Лунино, ул. Главная, 18\", \"Сидоров С.С.\")\n",
    "]\n",
    "\n",
    "cursor.executemany(\"\"\"\n",
    "INSERT INTO CLIENTS (Client_id, Client_Type, Client_Address, Client_FIO)\n",
    "VALUES (?, ?, ?, ?);\n",
    "\"\"\", clients_data)\n",
    "\n",
    "# Данные документов (версионность)\n",
    "documents_data = [\n",
    "    # Клиент 1\n",
    "    (1, \"2010-01-01\", \"2010-12-01\", \"Паспорт\", \"111111-11\", 10000),\n",
    "    (1, \"2010-12-01\", \"2012-06-01\", \"Паспорт\", \"111111-11\", 11000),\n",
    "    (1, \"2012-06-01\", \"2220-01-01\", \"Паспорт\", \"333333-33\", 11000),\n",
    "\n",
    "    # Клиент 2\n",
    "    (2, \"2001-01-01\", \"2220-01-01\", \"Паспорт\", \"123123-44\", 5000),\n",
    "\n",
    "    # Клиент 3\n",
    "    (3, \"2015-05-01\", \"2220-01-01\", \"Паспорт\", \"555555-55\", 25000),\n",
    "\n",
    "    # Клиент 4\n",
    "    (4, \"2000-03-15\", \"2220-01-01\", \"Паспорт\", \"999999-99\", 15000)\n",
    "]\n",
    "\n",
    "cursor.executemany(\"\"\"\n",
    "INSERT INTO DOCUMENTS (Client_id, Valid_from, Valid_to, Document_type, Document_no, Income)\n",
    "VALUES (?, ?, ?, ?, ?, ?);\n",
    "\"\"\", documents_data)\n",
    "\n",
    "# Сохраняем и закрываем\n",
    "conn.commit()\n",
    "conn.close()\n",
    "\n",
    "print(\"База данных clients.db успешно создана и заполнена.\")"
   ]
  },
  {
   "cell_type": "code",
   "execution_count": 13,
   "id": "0bd7f93e-ca97-4583-baa4-490172c33f6d",
   "metadata": {},
   "outputs": [],
   "source": [
    "conn = sqlite3.connect(\"clients.db\")\n",
    "cursor = conn.cursor()"
   ]
  },
  {
   "cell_type": "markdown",
   "id": "1b6d1391-c835-43cf-b7f4-ef0b789f13ab",
   "metadata": {},
   "source": [
    "1)\tНапишите запрос, который вернет ФИО Клиентов по всем пенсионерам не из Москвы."
   ]
  },
  {
   "cell_type": "code",
   "execution_count": 64,
   "id": "decf8699-45bf-48c4-8e00-78518767f16b",
   "metadata": {},
   "outputs": [],
   "source": [
    "text_1 = \"\"\"SELECT Client_FIO\n",
    "            FROM CLIENTS\n",
    "            WHERE Client_Type LIKE '%Пенсионер%' AND Client_Address NOT LIKE '%Г.Москва%';\n",
    "         \"\"\""
   ]
  },
  {
   "cell_type": "code",
   "execution_count": 65,
   "id": "54bdf72c-ca55-45c3-a711-98c81914b055",
   "metadata": {},
   "outputs": [
    {
     "data": {
      "text/html": [
       "<div>\n",
       "<style scoped>\n",
       "    .dataframe tbody tr th:only-of-type {\n",
       "        vertical-align: middle;\n",
       "    }\n",
       "\n",
       "    .dataframe tbody tr th {\n",
       "        vertical-align: top;\n",
       "    }\n",
       "\n",
       "    .dataframe thead th {\n",
       "        text-align: right;\n",
       "    }\n",
       "</style>\n",
       "<table border=\"1\" class=\"dataframe\">\n",
       "  <thead>\n",
       "    <tr style=\"text-align: right;\">\n",
       "      <th></th>\n",
       "      <th>0</th>\n",
       "    </tr>\n",
       "  </thead>\n",
       "  <tbody>\n",
       "    <tr>\n",
       "      <th>0</th>\n",
       "      <td>Сидоров С.С.</td>\n",
       "    </tr>\n",
       "  </tbody>\n",
       "</table>\n",
       "</div>"
      ],
      "text/plain": [
       "              0\n",
       "0  Сидоров С.С."
      ]
     },
     "execution_count": 65,
     "metadata": {},
     "output_type": "execute_result"
    }
   ],
   "source": [
    "cursor.execute(text_1)\n",
    "res = cursor.fetchall()\n",
    "res = pd.DataFrame(res)\n",
    "res"
   ]
  },
  {
   "cell_type": "markdown",
   "id": "dd3b5a5c-0f7f-4f74-a2b1-a1833c33440d",
   "metadata": {},
   "source": [
    "2. Напишите запрос, который вернет: ФИО Клиентов, № документа (текущую/последнюю версию документа)"
   ]
  },
  {
   "cell_type": "code",
   "execution_count": 41,
   "id": "846e9915-fc24-4247-875c-4c8f9f3541e9",
   "metadata": {},
   "outputs": [],
   "source": [
    "text_2 = \"\"\"SELECT c.Client_FIO AS 'ФИО Клиента', d.Document_no AS '№ документа'\n",
    "            FROM CLIENTS c LEFT JOIN DOCUMENTS d ON c.Client_id = d.Client_id\n",
    "            WHERE d.Valid_to = '2220-01-01';\n",
    "         \"\"\""
   ]
  },
  {
   "cell_type": "code",
   "execution_count": 42,
   "id": "928e0020-be69-4601-b854-a7524c54574e",
   "metadata": {},
   "outputs": [
    {
     "data": {
      "text/html": [
       "<div>\n",
       "<style scoped>\n",
       "    .dataframe tbody tr th:only-of-type {\n",
       "        vertical-align: middle;\n",
       "    }\n",
       "\n",
       "    .dataframe tbody tr th {\n",
       "        vertical-align: top;\n",
       "    }\n",
       "\n",
       "    .dataframe thead th {\n",
       "        text-align: right;\n",
       "    }\n",
       "</style>\n",
       "<table border=\"1\" class=\"dataframe\">\n",
       "  <thead>\n",
       "    <tr style=\"text-align: right;\">\n",
       "      <th></th>\n",
       "      <th>0</th>\n",
       "      <th>1</th>\n",
       "    </tr>\n",
       "  </thead>\n",
       "  <tbody>\n",
       "    <tr>\n",
       "      <th>0</th>\n",
       "      <td>Иванов И.И.</td>\n",
       "      <td>333333-33</td>\n",
       "    </tr>\n",
       "    <tr>\n",
       "      <th>1</th>\n",
       "      <td>Петров П.П.</td>\n",
       "      <td>123123-44</td>\n",
       "    </tr>\n",
       "    <tr>\n",
       "      <th>2</th>\n",
       "      <td>Кирилов К.К.</td>\n",
       "      <td>555555-55</td>\n",
       "    </tr>\n",
       "    <tr>\n",
       "      <th>3</th>\n",
       "      <td>Сидоров С.С.</td>\n",
       "      <td>999999-99</td>\n",
       "    </tr>\n",
       "  </tbody>\n",
       "</table>\n",
       "</div>"
      ],
      "text/plain": [
       "              0          1\n",
       "0   Иванов И.И.  333333-33\n",
       "1   Петров П.П.  123123-44\n",
       "2  Кирилов К.К.  555555-55\n",
       "3  Сидоров С.С.  999999-99"
      ]
     },
     "execution_count": 42,
     "metadata": {},
     "output_type": "execute_result"
    }
   ],
   "source": [
    "cursor.execute(text_2)\n",
    "res = cursor.fetchall()\n",
    "res = pd.DataFrame(res)\n",
    "res"
   ]
  },
  {
   "cell_type": "markdown",
   "id": "eda69044-e057-4b82-95ca-db6a2f18d4d9",
   "metadata": {},
   "source": [
    "3. Напишите запрос, который вернет: client_id, у которых в таблице с документами нет действующей версии (записи с valid_to=’2220-01-01’)"
   ]
  },
  {
   "cell_type": "code",
   "execution_count": 51,
   "id": "9e638ce1-eedb-4b6e-9d68-330e04ded62a",
   "metadata": {},
   "outputs": [],
   "source": [
    "text_3 = \"\"\"SELECT Client_id\n",
    "            FROM CLIENTS\n",
    "            WHERE Client_id NOT IN (SELECT Client_id\n",
    "                                      FROM DOCUMENTS\n",
    "                                      WHERE Valid_to = '2220-01-01');\n",
    "         \"\"\""
   ]
  },
  {
   "cell_type": "code",
   "execution_count": 52,
   "id": "b3d3ad43-f115-4bce-8f6c-3345276c2856",
   "metadata": {},
   "outputs": [
    {
     "data": {
      "text/html": [
       "<div>\n",
       "<style scoped>\n",
       "    .dataframe tbody tr th:only-of-type {\n",
       "        vertical-align: middle;\n",
       "    }\n",
       "\n",
       "    .dataframe tbody tr th {\n",
       "        vertical-align: top;\n",
       "    }\n",
       "\n",
       "    .dataframe thead th {\n",
       "        text-align: right;\n",
       "    }\n",
       "</style>\n",
       "<table border=\"1\" class=\"dataframe\">\n",
       "  <thead>\n",
       "    <tr style=\"text-align: right;\">\n",
       "      <th></th>\n",
       "    </tr>\n",
       "  </thead>\n",
       "  <tbody>\n",
       "  </tbody>\n",
       "</table>\n",
       "</div>"
      ],
      "text/plain": [
       "Empty DataFrame\n",
       "Columns: []\n",
       "Index: []"
      ]
     },
     "execution_count": 52,
     "metadata": {},
     "output_type": "execute_result"
    }
   ],
   "source": [
    "cursor.execute(text_3)\n",
    "res = cursor.fetchall()\n",
    "res = pd.DataFrame(res)\n",
    "res"
   ]
  },
  {
   "cell_type": "markdown",
   "id": "9ff0b7cf-08f8-4a6d-b61f-eba4db9504a5",
   "metadata": {},
   "source": [
    "4)\tНапишите запрос, который вернет: client_id, у которых в таблице с документами более одной действующей версии (записи с valid_to=’2220-01-01’)"
   ]
  },
  {
   "cell_type": "code",
   "execution_count": 53,
   "id": "09fc9ffd-31f4-4bb9-bd85-6b517fbbd880",
   "metadata": {},
   "outputs": [],
   "source": [
    "text_4 = \"\"\"SELECT Client_id\n",
    "            FROM DOCUMENTS\n",
    "            WHERE Valid_to = '2220-01-01'\n",
    "            GROUP BY Client_id\n",
    "            HAVING COUNT(*) > 1;\n",
    "         \"\"\""
   ]
  },
  {
   "cell_type": "code",
   "execution_count": 54,
   "id": "e5435c78-1e68-4011-8fba-994cf08c8d19",
   "metadata": {},
   "outputs": [
    {
     "data": {
      "text/html": [
       "<div>\n",
       "<style scoped>\n",
       "    .dataframe tbody tr th:only-of-type {\n",
       "        vertical-align: middle;\n",
       "    }\n",
       "\n",
       "    .dataframe tbody tr th {\n",
       "        vertical-align: top;\n",
       "    }\n",
       "\n",
       "    .dataframe thead th {\n",
       "        text-align: right;\n",
       "    }\n",
       "</style>\n",
       "<table border=\"1\" class=\"dataframe\">\n",
       "  <thead>\n",
       "    <tr style=\"text-align: right;\">\n",
       "      <th></th>\n",
       "    </tr>\n",
       "  </thead>\n",
       "  <tbody>\n",
       "  </tbody>\n",
       "</table>\n",
       "</div>"
      ],
      "text/plain": [
       "Empty DataFrame\n",
       "Columns: []\n",
       "Index: []"
      ]
     },
     "execution_count": 54,
     "metadata": {},
     "output_type": "execute_result"
    }
   ],
   "source": [
    "cursor.execute(text_4)\n",
    "res = cursor.fetchall()\n",
    "res = pd.DataFrame(res)\n",
    "res"
   ]
  },
  {
   "cell_type": "markdown",
   "id": "22fecaff-3ea9-47e0-8ce2-6e78f8e7d9d6",
   "metadata": {},
   "source": [
    "5)\tНапишите запрос, который вернет: ФИО Клиентов, у которых нет ни одной записи о документах."
   ]
  },
  {
   "cell_type": "code",
   "execution_count": 57,
   "id": "beecd131-edd3-4c0c-b7d8-f781512693b4",
   "metadata": {},
   "outputs": [],
   "source": [
    "text_5 = \"\"\"SELECT c.Client_FIO AS 'ФИО Клиента'\n",
    "            FROM CLIENTS c LEFT JOIN DOCUMENTS d ON c.Client_id = d.Client_id\n",
    "            WHERE d.Client_id IS NULL;\n",
    "         \"\"\""
   ]
  },
  {
   "cell_type": "code",
   "execution_count": 58,
   "id": "206e6f94-4169-4711-b22b-dc5d8e7eb142",
   "metadata": {},
   "outputs": [
    {
     "data": {
      "text/html": [
       "<div>\n",
       "<style scoped>\n",
       "    .dataframe tbody tr th:only-of-type {\n",
       "        vertical-align: middle;\n",
       "    }\n",
       "\n",
       "    .dataframe tbody tr th {\n",
       "        vertical-align: top;\n",
       "    }\n",
       "\n",
       "    .dataframe thead th {\n",
       "        text-align: right;\n",
       "    }\n",
       "</style>\n",
       "<table border=\"1\" class=\"dataframe\">\n",
       "  <thead>\n",
       "    <tr style=\"text-align: right;\">\n",
       "      <th></th>\n",
       "    </tr>\n",
       "  </thead>\n",
       "  <tbody>\n",
       "  </tbody>\n",
       "</table>\n",
       "</div>"
      ],
      "text/plain": [
       "Empty DataFrame\n",
       "Columns: []\n",
       "Index: []"
      ]
     },
     "execution_count": 58,
     "metadata": {},
     "output_type": "execute_result"
    }
   ],
   "source": [
    "cursor.execute(text_5)\n",
    "res = cursor.fetchall()\n",
    "res = pd.DataFrame(res)\n",
    "res"
   ]
  },
  {
   "cell_type": "code",
   "execution_count": null,
   "id": "9e3791ca-e7df-4a08-85d5-74d35e2adaf5",
   "metadata": {},
   "outputs": [],
   "source": []
  }
 ],
 "metadata": {
  "kernelspec": {
   "display_name": "Python [conda env:base] *",
   "language": "python",
   "name": "conda-base-py"
  },
  "language_info": {
   "codemirror_mode": {
    "name": "ipython",
    "version": 3
   },
   "file_extension": ".py",
   "mimetype": "text/x-python",
   "name": "python",
   "nbconvert_exporter": "python",
   "pygments_lexer": "ipython3",
   "version": "3.13.5"
  }
 },
 "nbformat": 4,
 "nbformat_minor": 5
}
