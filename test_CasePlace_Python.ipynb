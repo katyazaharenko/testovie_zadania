{
 "cells": [
  {
   "cell_type": "markdown",
   "id": "7493ff70-a907-4fa1-bb60-2d80ef4b80a0",
   "metadata": {},
   "source": [
    "Вам предоставлен файл search_data.parquet - данные по результатам парсинга поисковой выдачи маркетплейса\n",
    "по более чем 100 различным поисковым запросам, в разных регионах, за один день. \n",
    "Выполните все пункты, используя Python, и сохраните файл ipynb с указанием фамилии в названии.\n",
    "ВАЖНО: Просто графика или мнения недостаточно - покажите, как вы пришли к выводу через код и данные.\n",
    "\n",
    "Дополнительные комментарии:\n",
    "Выдача - позиция товара в поисковой выдаче по \"Запросу\".\n",
    "Например, если у товара Выдача = 1 по Запросу \"apple iphone 11 pro чехол\" - это означает,\n",
    "что при поиске такого запроса на маркетплейсе этот товар был показан первым \n",
    "Номенклатура - уникальный ID товара\n",
    "Реклама - флаг, включена ли реклама у товара \n",
    "Стоимость рекламы, Позиция с рекламой, Позиция до рекламы - в исходнике - ненулевые только для товаров, у которых включена реклама"
   ]
  },
  {
   "cell_type": "markdown",
   "id": "34547fff",
   "metadata": {},
   "source": [
    "# 1. Обработка данных"
   ]
  },
  {
   "cell_type": "code",
   "execution_count": 1,
   "id": "35e0a343-4cb3-47df-a1d9-8e21cbfe63fe",
   "metadata": {},
   "outputs": [],
   "source": [
    "import pandas as pd"
   ]
  },
  {
   "cell_type": "code",
   "execution_count": 2,
   "id": "2f6a29d5",
   "metadata": {},
   "outputs": [],
   "source": [
    "# Считывание данных\n",
    "data = pd.read_parquet(\"search_data.parquet\")"
   ]
  },
  {
   "cell_type": "code",
   "execution_count": 3,
   "id": "332ca033-0349-4d9b-bf14-fdbaebc8012c",
   "metadata": {},
   "outputs": [
    {
     "data": {
      "text/html": [
       "<div>\n",
       "<style scoped>\n",
       "    .dataframe tbody tr th:only-of-type {\n",
       "        vertical-align: middle;\n",
       "    }\n",
       "\n",
       "    .dataframe tbody tr th {\n",
       "        vertical-align: top;\n",
       "    }\n",
       "\n",
       "    .dataframe thead th {\n",
       "        text-align: right;\n",
       "    }\n",
       "</style>\n",
       "<table border=\"1\" class=\"dataframe\">\n",
       "  <thead>\n",
       "    <tr style=\"text-align: right;\">\n",
       "      <th></th>\n",
       "      <th>Дата парсинга</th>\n",
       "      <th>Выдача</th>\n",
       "      <th>Номенклатура</th>\n",
       "      <th>Рейтинг</th>\n",
       "      <th>Отзывы</th>\n",
       "      <th>Цена</th>\n",
       "      <th>Стоимость рекламы</th>\n",
       "      <th>Позиция с рекламой</th>\n",
       "      <th>Позиция до рекламы</th>\n",
       "      <th>Регион</th>\n",
       "      <th>Новинка</th>\n",
       "      <th>Модель</th>\n",
       "      <th>Запрос</th>\n",
       "      <th>Акция</th>\n",
       "      <th>Бренд</th>\n",
       "      <th>Название</th>\n",
       "      <th>Реклама</th>\n",
       "      <th>Остатки</th>\n",
       "      <th>Тип рекламы</th>\n",
       "    </tr>\n",
       "  </thead>\n",
       "  <tbody>\n",
       "    <tr>\n",
       "      <th>0</th>\n",
       "      <td>2025-09-12</td>\n",
       "      <td>1</td>\n",
       "      <td>172706235</td>\n",
       "      <td>4.9</td>\n",
       "      <td>223</td>\n",
       "      <td>316</td>\n",
       "      <td>2151</td>\n",
       "      <td>1</td>\n",
       "      <td>444</td>\n",
       "      <td>Казань</td>\n",
       "      <td>None</td>\n",
       "      <td>iPhone 11 Pro</td>\n",
       "      <td>apple iphone 11 pro чехол</td>\n",
       "      <td>СКИДКИ ПОСПЕЛИ</td>\n",
       "      <td>MagicCase</td>\n",
       "      <td>Силиконовый чехол на iPhone 11 Pro с защитой к...</td>\n",
       "      <td>Да</td>\n",
       "      <td>Электросталь WB:53;</td>\n",
       "      <td>поиск</td>\n",
       "    </tr>\n",
       "    <tr>\n",
       "      <th>1</th>\n",
       "      <td>2025-09-12</td>\n",
       "      <td>1</td>\n",
       "      <td>481174536</td>\n",
       "      <td>0.0</td>\n",
       "      <td>0</td>\n",
       "      <td>350</td>\n",
       "      <td>0</td>\n",
       "      <td>0</td>\n",
       "      <td>0</td>\n",
       "      <td>Казань</td>\n",
       "      <td>None</td>\n",
       "      <td>iPhone 11 Pro</td>\n",
       "      <td>apple iphone 11 pro чехол pinterest</td>\n",
       "      <td>СКИДКИ ПОСПЕЛИ</td>\n",
       "      <td>CHEHOO</td>\n",
       "      <td>Чехол на iPhone 11 Pro с драконом</td>\n",
       "      <td>None</td>\n",
       "      <td>СЦ  Кавказский бульвар:29;</td>\n",
       "      <td>None</td>\n",
       "    </tr>\n",
       "    <tr>\n",
       "      <th>2</th>\n",
       "      <td>2025-09-12</td>\n",
       "      <td>1</td>\n",
       "      <td>287575556</td>\n",
       "      <td>4.0</td>\n",
       "      <td>1</td>\n",
       "      <td>428</td>\n",
       "      <td>0</td>\n",
       "      <td>0</td>\n",
       "      <td>0</td>\n",
       "      <td>Казань</td>\n",
       "      <td>None</td>\n",
       "      <td>iPhone 11 Pro</td>\n",
       "      <td>apple iphone 11 pro чехол y2k</td>\n",
       "      <td>None</td>\n",
       "      <td>RR CASE</td>\n",
       "      <td>Чехол на IPHONE 11 PRO силиконовый с принтом y2k</td>\n",
       "      <td>None</td>\n",
       "      <td>склад продавца Внуково:50;</td>\n",
       "      <td>None</td>\n",
       "    </tr>\n",
       "    <tr>\n",
       "      <th>3</th>\n",
       "      <td>2025-09-12</td>\n",
       "      <td>1</td>\n",
       "      <td>439036487</td>\n",
       "      <td>4.2</td>\n",
       "      <td>9</td>\n",
       "      <td>369</td>\n",
       "      <td>280</td>\n",
       "      <td>1</td>\n",
       "      <td>26</td>\n",
       "      <td>Казань</td>\n",
       "      <td>None</td>\n",
       "      <td>iPhone 11 Pro</td>\n",
       "      <td>apple iphone 11 pro чехол Россия</td>\n",
       "      <td>СКИДКИ ПОСПЕЛИ</td>\n",
       "      <td>Cases_Sores_</td>\n",
       "      <td>Чехол на iPhone 11 Pro с принтом черный Герб</td>\n",
       "      <td>Да</td>\n",
       "      <td>Электросталь WB:34;</td>\n",
       "      <td>поиск</td>\n",
       "    </tr>\n",
       "    <tr>\n",
       "      <th>4</th>\n",
       "      <td>2025-09-12</td>\n",
       "      <td>1</td>\n",
       "      <td>189604363</td>\n",
       "      <td>5.0</td>\n",
       "      <td>3</td>\n",
       "      <td>403</td>\n",
       "      <td>0</td>\n",
       "      <td>0</td>\n",
       "      <td>0</td>\n",
       "      <td>Казань</td>\n",
       "      <td>None</td>\n",
       "      <td>iPhone 11 Pro</td>\n",
       "      <td>apple iphone 11 pro чехол аниме</td>\n",
       "      <td>None</td>\n",
       "      <td>Street fox  ^.^</td>\n",
       "      <td>Чехол на iPhone 11 Pro с принтом Аниме</td>\n",
       "      <td>None</td>\n",
       "      <td>склад продавца Алексин:9;</td>\n",
       "      <td>None</td>\n",
       "    </tr>\n",
       "  </tbody>\n",
       "</table>\n",
       "</div>"
      ],
      "text/plain": [
       "  Дата парсинга  Выдача  Номенклатура  Рейтинг  Отзывы  Цена  \\\n",
       "0    2025-09-12       1     172706235      4.9     223   316   \n",
       "1    2025-09-12       1     481174536      0.0       0   350   \n",
       "2    2025-09-12       1     287575556      4.0       1   428   \n",
       "3    2025-09-12       1     439036487      4.2       9   369   \n",
       "4    2025-09-12       1     189604363      5.0       3   403   \n",
       "\n",
       "   Стоимость рекламы  Позиция с рекламой  Позиция до рекламы  Регион Новинка  \\\n",
       "0               2151                   1                 444  Казань    None   \n",
       "1                  0                   0                   0  Казань    None   \n",
       "2                  0                   0                   0  Казань    None   \n",
       "3                280                   1                  26  Казань    None   \n",
       "4                  0                   0                   0  Казань    None   \n",
       "\n",
       "          Модель                               Запрос           Акция  \\\n",
       "0  iPhone 11 Pro            apple iphone 11 pro чехол  СКИДКИ ПОСПЕЛИ   \n",
       "1  iPhone 11 Pro  apple iphone 11 pro чехол pinterest  СКИДКИ ПОСПЕЛИ   \n",
       "2  iPhone 11 Pro        apple iphone 11 pro чехол y2k            None   \n",
       "3  iPhone 11 Pro     apple iphone 11 pro чехол Россия  СКИДКИ ПОСПЕЛИ   \n",
       "4  iPhone 11 Pro      apple iphone 11 pro чехол аниме            None   \n",
       "\n",
       "             Бренд                                           Название Реклама  \\\n",
       "0        MagicCase  Силиконовый чехол на iPhone 11 Pro с защитой к...      Да   \n",
       "1           CHEHOO                  Чехол на iPhone 11 Pro с драконом    None   \n",
       "2          RR CASE   Чехол на IPHONE 11 PRO силиконовый с принтом y2k    None   \n",
       "3     Cases_Sores_       Чехол на iPhone 11 Pro с принтом черный Герб      Да   \n",
       "4  Street fox  ^.^             Чехол на iPhone 11 Pro с принтом Аниме    None   \n",
       "\n",
       "                       Остатки Тип рекламы  \n",
       "0         Электросталь WB:53;        поиск  \n",
       "1  СЦ  Кавказский бульвар:29;         None  \n",
       "2  склад продавца Внуково:50;         None  \n",
       "3         Электросталь WB:34;        поиск  \n",
       "4   склад продавца Алексин:9;         None  "
      ]
     },
     "execution_count": 3,
     "metadata": {},
     "output_type": "execute_result"
    }
   ],
   "source": [
    "data.head()"
   ]
  },
  {
   "cell_type": "markdown",
   "id": "e1b6bb9d",
   "metadata": {},
   "source": [
    "1) Из поля \"Остатки\": извлеките числа и просуммировайте, результат должен появиться в новой колонке \"stock_total\", старую колонку удалить"
   ]
  },
  {
   "cell_type": "code",
   "execution_count": 23,
   "id": "83131638-ed76-466c-8692-ffcbc587065d",
   "metadata": {},
   "outputs": [],
   "source": [
    "import re\n",
    "\n",
    "data[\"stock_total\"] = data['Остатки'].apply(lambda x: re.search(r\"\\d+\", x)[0] if x is not None else x)\n",
    "data.drop(\"Остатки\", axis=1, inplace=True)"
   ]
  },
  {
   "cell_type": "code",
   "execution_count": 24,
   "id": "760e9350-f71b-42d5-8b86-1c4f456c0559",
   "metadata": {},
   "outputs": [
    {
     "data": {
      "text/html": [
       "<div>\n",
       "<style scoped>\n",
       "    .dataframe tbody tr th:only-of-type {\n",
       "        vertical-align: middle;\n",
       "    }\n",
       "\n",
       "    .dataframe tbody tr th {\n",
       "        vertical-align: top;\n",
       "    }\n",
       "\n",
       "    .dataframe thead th {\n",
       "        text-align: right;\n",
       "    }\n",
       "</style>\n",
       "<table border=\"1\" class=\"dataframe\">\n",
       "  <thead>\n",
       "    <tr style=\"text-align: right;\">\n",
       "      <th></th>\n",
       "      <th>Дата парсинга</th>\n",
       "      <th>Выдача</th>\n",
       "      <th>Номенклатура</th>\n",
       "      <th>Рейтинг</th>\n",
       "      <th>Отзывы</th>\n",
       "      <th>Цена</th>\n",
       "      <th>Стоимость рекламы</th>\n",
       "      <th>Позиция с рекламой</th>\n",
       "      <th>Позиция до рекламы</th>\n",
       "      <th>Регион</th>\n",
       "      <th>Новинка</th>\n",
       "      <th>Модель</th>\n",
       "      <th>Запрос</th>\n",
       "      <th>Акция</th>\n",
       "      <th>Бренд</th>\n",
       "      <th>Название</th>\n",
       "      <th>Реклама</th>\n",
       "      <th>Тип рекламы</th>\n",
       "      <th>stock_total</th>\n",
       "    </tr>\n",
       "  </thead>\n",
       "  <tbody>\n",
       "    <tr>\n",
       "      <th>0</th>\n",
       "      <td>2025-09-12</td>\n",
       "      <td>1</td>\n",
       "      <td>172706235</td>\n",
       "      <td>4.9</td>\n",
       "      <td>223</td>\n",
       "      <td>316</td>\n",
       "      <td>2151</td>\n",
       "      <td>1</td>\n",
       "      <td>444</td>\n",
       "      <td>Казань</td>\n",
       "      <td>None</td>\n",
       "      <td>iPhone 11 Pro</td>\n",
       "      <td>apple iphone 11 pro чехол</td>\n",
       "      <td>СКИДКИ ПОСПЕЛИ</td>\n",
       "      <td>MagicCase</td>\n",
       "      <td>Силиконовый чехол на iPhone 11 Pro с защитой к...</td>\n",
       "      <td>Да</td>\n",
       "      <td>поиск</td>\n",
       "      <td>53</td>\n",
       "    </tr>\n",
       "    <tr>\n",
       "      <th>1</th>\n",
       "      <td>2025-09-12</td>\n",
       "      <td>1</td>\n",
       "      <td>481174536</td>\n",
       "      <td>0.0</td>\n",
       "      <td>0</td>\n",
       "      <td>350</td>\n",
       "      <td>0</td>\n",
       "      <td>0</td>\n",
       "      <td>0</td>\n",
       "      <td>Казань</td>\n",
       "      <td>None</td>\n",
       "      <td>iPhone 11 Pro</td>\n",
       "      <td>apple iphone 11 pro чехол pinterest</td>\n",
       "      <td>СКИДКИ ПОСПЕЛИ</td>\n",
       "      <td>CHEHOO</td>\n",
       "      <td>Чехол на iPhone 11 Pro с драконом</td>\n",
       "      <td>None</td>\n",
       "      <td>None</td>\n",
       "      <td>29</td>\n",
       "    </tr>\n",
       "    <tr>\n",
       "      <th>2</th>\n",
       "      <td>2025-09-12</td>\n",
       "      <td>1</td>\n",
       "      <td>287575556</td>\n",
       "      <td>4.0</td>\n",
       "      <td>1</td>\n",
       "      <td>428</td>\n",
       "      <td>0</td>\n",
       "      <td>0</td>\n",
       "      <td>0</td>\n",
       "      <td>Казань</td>\n",
       "      <td>None</td>\n",
       "      <td>iPhone 11 Pro</td>\n",
       "      <td>apple iphone 11 pro чехол y2k</td>\n",
       "      <td>None</td>\n",
       "      <td>RR CASE</td>\n",
       "      <td>Чехол на IPHONE 11 PRO силиконовый с принтом y2k</td>\n",
       "      <td>None</td>\n",
       "      <td>None</td>\n",
       "      <td>50</td>\n",
       "    </tr>\n",
       "    <tr>\n",
       "      <th>3</th>\n",
       "      <td>2025-09-12</td>\n",
       "      <td>1</td>\n",
       "      <td>439036487</td>\n",
       "      <td>4.2</td>\n",
       "      <td>9</td>\n",
       "      <td>369</td>\n",
       "      <td>280</td>\n",
       "      <td>1</td>\n",
       "      <td>26</td>\n",
       "      <td>Казань</td>\n",
       "      <td>None</td>\n",
       "      <td>iPhone 11 Pro</td>\n",
       "      <td>apple iphone 11 pro чехол Россия</td>\n",
       "      <td>СКИДКИ ПОСПЕЛИ</td>\n",
       "      <td>Cases_Sores_</td>\n",
       "      <td>Чехол на iPhone 11 Pro с принтом черный Герб</td>\n",
       "      <td>Да</td>\n",
       "      <td>поиск</td>\n",
       "      <td>34</td>\n",
       "    </tr>\n",
       "    <tr>\n",
       "      <th>4</th>\n",
       "      <td>2025-09-12</td>\n",
       "      <td>1</td>\n",
       "      <td>189604363</td>\n",
       "      <td>5.0</td>\n",
       "      <td>3</td>\n",
       "      <td>403</td>\n",
       "      <td>0</td>\n",
       "      <td>0</td>\n",
       "      <td>0</td>\n",
       "      <td>Казань</td>\n",
       "      <td>None</td>\n",
       "      <td>iPhone 11 Pro</td>\n",
       "      <td>apple iphone 11 pro чехол аниме</td>\n",
       "      <td>None</td>\n",
       "      <td>Street fox  ^.^</td>\n",
       "      <td>Чехол на iPhone 11 Pro с принтом Аниме</td>\n",
       "      <td>None</td>\n",
       "      <td>None</td>\n",
       "      <td>9</td>\n",
       "    </tr>\n",
       "  </tbody>\n",
       "</table>\n",
       "</div>"
      ],
      "text/plain": [
       "  Дата парсинга  Выдача  Номенклатура  Рейтинг  Отзывы  Цена  \\\n",
       "0    2025-09-12       1     172706235      4.9     223   316   \n",
       "1    2025-09-12       1     481174536      0.0       0   350   \n",
       "2    2025-09-12       1     287575556      4.0       1   428   \n",
       "3    2025-09-12       1     439036487      4.2       9   369   \n",
       "4    2025-09-12       1     189604363      5.0       3   403   \n",
       "\n",
       "   Стоимость рекламы  Позиция с рекламой  Позиция до рекламы  Регион Новинка  \\\n",
       "0               2151                   1                 444  Казань    None   \n",
       "1                  0                   0                   0  Казань    None   \n",
       "2                  0                   0                   0  Казань    None   \n",
       "3                280                   1                  26  Казань    None   \n",
       "4                  0                   0                   0  Казань    None   \n",
       "\n",
       "          Модель                               Запрос           Акция  \\\n",
       "0  iPhone 11 Pro            apple iphone 11 pro чехол  СКИДКИ ПОСПЕЛИ   \n",
       "1  iPhone 11 Pro  apple iphone 11 pro чехол pinterest  СКИДКИ ПОСПЕЛИ   \n",
       "2  iPhone 11 Pro        apple iphone 11 pro чехол y2k            None   \n",
       "3  iPhone 11 Pro     apple iphone 11 pro чехол Россия  СКИДКИ ПОСПЕЛИ   \n",
       "4  iPhone 11 Pro      apple iphone 11 pro чехол аниме            None   \n",
       "\n",
       "             Бренд                                           Название Реклама  \\\n",
       "0        MagicCase  Силиконовый чехол на iPhone 11 Pro с защитой к...      Да   \n",
       "1           CHEHOO                  Чехол на iPhone 11 Pro с драконом    None   \n",
       "2          RR CASE   Чехол на IPHONE 11 PRO силиконовый с принтом y2k    None   \n",
       "3     Cases_Sores_       Чехол на iPhone 11 Pro с принтом черный Герб      Да   \n",
       "4  Street fox  ^.^             Чехол на iPhone 11 Pro с принтом Аниме    None   \n",
       "\n",
       "  Тип рекламы stock_total  \n",
       "0       поиск          53  \n",
       "1        None          29  \n",
       "2        None          50  \n",
       "3       поиск          34  \n",
       "4        None           9  "
      ]
     },
     "execution_count": 24,
     "metadata": {},
     "output_type": "execute_result"
    }
   ],
   "source": [
    "data.head()"
   ]
  },
  {
   "cell_type": "markdown",
   "id": "3d90d515",
   "metadata": {},
   "source": [
    "2) Добавьте новый признак: уровень рейтинга (низкий / средний / высокий). Меньше 3.5 - низкий, больше 4.5 - высокий, всё остальное - средний. Результат должен появиться в новой колонке \"level_rating\", старую колонку нужно оставить"
   ]
  },
  {
   "cell_type": "code",
   "execution_count": 27,
   "id": "8a8d21ae",
   "metadata": {},
   "outputs": [],
   "source": [
    "def set_rating_level(rating):\n",
    "    if rating < 3.5:\n",
    "        return \"низкий\"\n",
    "    elif rating > 4.5:\n",
    "        return \"высокий\"\n",
    "    else:\n",
    "        return \"средний\"\n",
    "\n",
    "data['level_rating'] = data['Рейтинг'].apply(lambda x: set_rating_level(x))"
   ]
  },
  {
   "cell_type": "code",
   "execution_count": 28,
   "id": "dd70ef02-df78-43d6-9011-729f740a50cf",
   "metadata": {},
   "outputs": [
    {
     "data": {
      "text/html": [
       "<div>\n",
       "<style scoped>\n",
       "    .dataframe tbody tr th:only-of-type {\n",
       "        vertical-align: middle;\n",
       "    }\n",
       "\n",
       "    .dataframe tbody tr th {\n",
       "        vertical-align: top;\n",
       "    }\n",
       "\n",
       "    .dataframe thead th {\n",
       "        text-align: right;\n",
       "    }\n",
       "</style>\n",
       "<table border=\"1\" class=\"dataframe\">\n",
       "  <thead>\n",
       "    <tr style=\"text-align: right;\">\n",
       "      <th></th>\n",
       "      <th>Дата парсинга</th>\n",
       "      <th>Выдача</th>\n",
       "      <th>Номенклатура</th>\n",
       "      <th>Рейтинг</th>\n",
       "      <th>Отзывы</th>\n",
       "      <th>Цена</th>\n",
       "      <th>Стоимость рекламы</th>\n",
       "      <th>Позиция с рекламой</th>\n",
       "      <th>Позиция до рекламы</th>\n",
       "      <th>Регион</th>\n",
       "      <th>Новинка</th>\n",
       "      <th>Модель</th>\n",
       "      <th>Запрос</th>\n",
       "      <th>Акция</th>\n",
       "      <th>Бренд</th>\n",
       "      <th>Название</th>\n",
       "      <th>Реклама</th>\n",
       "      <th>Тип рекламы</th>\n",
       "      <th>stock_total</th>\n",
       "      <th>level_rating</th>\n",
       "    </tr>\n",
       "  </thead>\n",
       "  <tbody>\n",
       "    <tr>\n",
       "      <th>0</th>\n",
       "      <td>2025-09-12</td>\n",
       "      <td>1</td>\n",
       "      <td>172706235</td>\n",
       "      <td>4.9</td>\n",
       "      <td>223</td>\n",
       "      <td>316</td>\n",
       "      <td>2151</td>\n",
       "      <td>1</td>\n",
       "      <td>444</td>\n",
       "      <td>Казань</td>\n",
       "      <td>None</td>\n",
       "      <td>iPhone 11 Pro</td>\n",
       "      <td>apple iphone 11 pro чехол</td>\n",
       "      <td>СКИДКИ ПОСПЕЛИ</td>\n",
       "      <td>MagicCase</td>\n",
       "      <td>Силиконовый чехол на iPhone 11 Pro с защитой к...</td>\n",
       "      <td>Да</td>\n",
       "      <td>поиск</td>\n",
       "      <td>53</td>\n",
       "      <td>высокий</td>\n",
       "    </tr>\n",
       "    <tr>\n",
       "      <th>1</th>\n",
       "      <td>2025-09-12</td>\n",
       "      <td>1</td>\n",
       "      <td>481174536</td>\n",
       "      <td>0.0</td>\n",
       "      <td>0</td>\n",
       "      <td>350</td>\n",
       "      <td>0</td>\n",
       "      <td>0</td>\n",
       "      <td>0</td>\n",
       "      <td>Казань</td>\n",
       "      <td>None</td>\n",
       "      <td>iPhone 11 Pro</td>\n",
       "      <td>apple iphone 11 pro чехол pinterest</td>\n",
       "      <td>СКИДКИ ПОСПЕЛИ</td>\n",
       "      <td>CHEHOO</td>\n",
       "      <td>Чехол на iPhone 11 Pro с драконом</td>\n",
       "      <td>None</td>\n",
       "      <td>None</td>\n",
       "      <td>29</td>\n",
       "      <td>низкий</td>\n",
       "    </tr>\n",
       "    <tr>\n",
       "      <th>2</th>\n",
       "      <td>2025-09-12</td>\n",
       "      <td>1</td>\n",
       "      <td>287575556</td>\n",
       "      <td>4.0</td>\n",
       "      <td>1</td>\n",
       "      <td>428</td>\n",
       "      <td>0</td>\n",
       "      <td>0</td>\n",
       "      <td>0</td>\n",
       "      <td>Казань</td>\n",
       "      <td>None</td>\n",
       "      <td>iPhone 11 Pro</td>\n",
       "      <td>apple iphone 11 pro чехол y2k</td>\n",
       "      <td>None</td>\n",
       "      <td>RR CASE</td>\n",
       "      <td>Чехол на IPHONE 11 PRO силиконовый с принтом y2k</td>\n",
       "      <td>None</td>\n",
       "      <td>None</td>\n",
       "      <td>50</td>\n",
       "      <td>средний</td>\n",
       "    </tr>\n",
       "    <tr>\n",
       "      <th>3</th>\n",
       "      <td>2025-09-12</td>\n",
       "      <td>1</td>\n",
       "      <td>439036487</td>\n",
       "      <td>4.2</td>\n",
       "      <td>9</td>\n",
       "      <td>369</td>\n",
       "      <td>280</td>\n",
       "      <td>1</td>\n",
       "      <td>26</td>\n",
       "      <td>Казань</td>\n",
       "      <td>None</td>\n",
       "      <td>iPhone 11 Pro</td>\n",
       "      <td>apple iphone 11 pro чехол Россия</td>\n",
       "      <td>СКИДКИ ПОСПЕЛИ</td>\n",
       "      <td>Cases_Sores_</td>\n",
       "      <td>Чехол на iPhone 11 Pro с принтом черный Герб</td>\n",
       "      <td>Да</td>\n",
       "      <td>поиск</td>\n",
       "      <td>34</td>\n",
       "      <td>средний</td>\n",
       "    </tr>\n",
       "    <tr>\n",
       "      <th>4</th>\n",
       "      <td>2025-09-12</td>\n",
       "      <td>1</td>\n",
       "      <td>189604363</td>\n",
       "      <td>5.0</td>\n",
       "      <td>3</td>\n",
       "      <td>403</td>\n",
       "      <td>0</td>\n",
       "      <td>0</td>\n",
       "      <td>0</td>\n",
       "      <td>Казань</td>\n",
       "      <td>None</td>\n",
       "      <td>iPhone 11 Pro</td>\n",
       "      <td>apple iphone 11 pro чехол аниме</td>\n",
       "      <td>None</td>\n",
       "      <td>Street fox  ^.^</td>\n",
       "      <td>Чехол на iPhone 11 Pro с принтом Аниме</td>\n",
       "      <td>None</td>\n",
       "      <td>None</td>\n",
       "      <td>9</td>\n",
       "      <td>высокий</td>\n",
       "    </tr>\n",
       "  </tbody>\n",
       "</table>\n",
       "</div>"
      ],
      "text/plain": [
       "  Дата парсинга  Выдача  Номенклатура  Рейтинг  Отзывы  Цена  \\\n",
       "0    2025-09-12       1     172706235      4.9     223   316   \n",
       "1    2025-09-12       1     481174536      0.0       0   350   \n",
       "2    2025-09-12       1     287575556      4.0       1   428   \n",
       "3    2025-09-12       1     439036487      4.2       9   369   \n",
       "4    2025-09-12       1     189604363      5.0       3   403   \n",
       "\n",
       "   Стоимость рекламы  Позиция с рекламой  Позиция до рекламы  Регион Новинка  \\\n",
       "0               2151                   1                 444  Казань    None   \n",
       "1                  0                   0                   0  Казань    None   \n",
       "2                  0                   0                   0  Казань    None   \n",
       "3                280                   1                  26  Казань    None   \n",
       "4                  0                   0                   0  Казань    None   \n",
       "\n",
       "          Модель                               Запрос           Акция  \\\n",
       "0  iPhone 11 Pro            apple iphone 11 pro чехол  СКИДКИ ПОСПЕЛИ   \n",
       "1  iPhone 11 Pro  apple iphone 11 pro чехол pinterest  СКИДКИ ПОСПЕЛИ   \n",
       "2  iPhone 11 Pro        apple iphone 11 pro чехол y2k            None   \n",
       "3  iPhone 11 Pro     apple iphone 11 pro чехол Россия  СКИДКИ ПОСПЕЛИ   \n",
       "4  iPhone 11 Pro      apple iphone 11 pro чехол аниме            None   \n",
       "\n",
       "             Бренд                                           Название Реклама  \\\n",
       "0        MagicCase  Силиконовый чехол на iPhone 11 Pro с защитой к...      Да   \n",
       "1           CHEHOO                  Чехол на iPhone 11 Pro с драконом    None   \n",
       "2          RR CASE   Чехол на IPHONE 11 PRO силиконовый с принтом y2k    None   \n",
       "3     Cases_Sores_       Чехол на iPhone 11 Pro с принтом черный Герб      Да   \n",
       "4  Street fox  ^.^             Чехол на iPhone 11 Pro с принтом Аниме    None   \n",
       "\n",
       "  Тип рекламы stock_total level_rating  \n",
       "0       поиск          53      высокий  \n",
       "1        None          29       низкий  \n",
       "2        None          50      средний  \n",
       "3       поиск          34      средний  \n",
       "4        None           9      высокий  "
      ]
     },
     "execution_count": 28,
     "metadata": {},
     "output_type": "execute_result"
    }
   ],
   "source": [
    "data.head()"
   ]
  },
  {
   "cell_type": "markdown",
   "id": "b36aa7d6",
   "metadata": {},
   "source": [
    "3) Заменить нули в колонках \"Позиция с рекламой\", \"Позиция до рекламы\" на значение из колонки \"Выдача\""
   ]
  },
  {
   "cell_type": "code",
   "execution_count": 33,
   "id": "80b46f31",
   "metadata": {},
   "outputs": [],
   "source": [
    "data[\"Позиция с рекламой\"] = data[\"Позиция с рекламой\"].fillna(data[\"Выдача\"])\n",
    "data[\"Позиция до рекламы\"] = data[\"Позиция до рекламы\"].fillna(data[\"Выдача\"])"
   ]
  },
  {
   "cell_type": "markdown",
   "id": "1d37c15c",
   "metadata": {},
   "source": [
    "4. Визуализируйте распределение и очистите данные от выбросов по колонкам: \"Цена\", \"Рейтинг\". Объясните свой метод избавления от выбросов"
   ]
  },
  {
   "cell_type": "code",
   "execution_count": 47,
   "id": "03e9a3c4-9dd8-4f2e-9ef0-8542bc6fb722",
   "metadata": {},
   "outputs": [],
   "source": [
    "import matplotlib.pyplot as plt\n",
    "import numpy as np"
   ]
  },
  {
   "cell_type": "code",
   "execution_count": 43,
   "id": "c532e012",
   "metadata": {},
   "outputs": [
    {
     "data": {
      "image/png": "[encoded data removed]",
      "text/plain": [
       "<Figure size 640x480 with 1 Axes>"
      ]
     },
     "metadata": {},
     "output_type": "display_data"
    }
   ],
   "source": [
    "data.boxplot(['Цена'])\n",
    "plt.title(\"Распределение значений столбца 'Цена'\")\n",
    "plt.show()"
   ]
  },
  {
   "cell_type": "markdown",
   "id": "19d09cdc-7d58-4f0a-aaa7-a5ea176fab1d",
   "metadata": {},
   "source": [
    "Для удаления выбросов выбираю метод IQR (интерквартильный размах с коэффициентом 1.5)."
   ]
  },
  {
   "cell_type": "code",
   "execution_count": 63,
   "id": "2895acbe-791a-4ede-8531-4f7892e0550e",
   "metadata": {},
   "outputs": [],
   "source": [
    "Q1 = np.percentile(data['Цена'], 25)\n",
    "Q3 = np.percentile(data['Цена'], 75)\n",
    "iqr = Q3 - Q1\n",
    "upper_limit = Q3 + 1.5 * iqr\n",
    "data_cleaned = data[data['Цена'] < upper_limit].copy()"
   ]
  },
  {
   "cell_type": "code",
   "execution_count": 64,
   "id": "1903d975-dc04-45f3-9062-df2b83f49fce",
   "metadata": {},
   "outputs": [
    {
     "data": {
      "text/plain": [
       "(1548726, 20)"
      ]
     },
     "execution_count": 64,
     "metadata": {},
     "output_type": "execute_result"
    }
   ],
   "source": [
    "data_cleaned.shape"
   ]
  },
  {
   "cell_type": "code",
   "execution_count": 65,
   "id": "0b2b7ff8-e113-4c61-97bf-b03eac45e8d3",
   "metadata": {},
   "outputs": [
    {
     "data": {
      "text/plain": [
       "(1572069, 20)"
      ]
     },
     "execution_count": 65,
     "metadata": {},
     "output_type": "execute_result"
    }
   ],
   "source": [
    "data.shape"
   ]
  },
  {
   "cell_type": "code",
   "execution_count": 68,
   "id": "3807877c-84ab-4dc1-b0e9-33ed2f02f02b",
   "metadata": {},
   "outputs": [
    {
     "name": "stdout",
     "output_type": "stream",
     "text": [
      "Удалено 1.48% данных после очистки выбросов по атрибуту 'Цена' по методу IQR\n"
     ]
    }
   ],
   "source": [
    "print(f\"Удалено {round((data.shape[0] - data_cleaned.shape[0])/data.shape[0] * 100, 2)}% данных после очистки выбросов по атрибуту 'Цена' по методу IQR\")"
   ]
  },
  {
   "cell_type": "code",
   "execution_count": 45,
   "id": "8e27f6ab-1ca5-4125-876b-eea3c00cf568",
   "metadata": {},
   "outputs": [
    {
     "data": {
      "image/png": "[encoded data removed]",
      "text/plain": [
       "<Figure size 640x480 with 1 Axes>"
      ]
     },
     "metadata": {},
     "output_type": "display_data"
    }
   ],
   "source": [
    "data.boxplot(['Рейтинг'])\n",
    "plt.title(\"Распределение значений столбца 'Рейтинг'\")\n",
    "plt.show()"
   ]
  },
  {
   "cell_type": "markdown",
   "id": "ed940dc4-888a-4f62-9442-875809bb0995",
   "metadata": {},
   "source": [
    "По столбцу 'Рейтинг' выбросов нет"
   ]
  },
  {
   "cell_type": "markdown",
   "id": "e650f239",
   "metadata": {},
   "source": [
    "5) Визуализируйте пропуски гистограммой. Чем объясняются эти пропуски? Как с ними поступить?"
   ]
  },
  {
   "cell_type": "code",
   "execution_count": 7,
   "id": "c7f9487e",
   "metadata": {},
   "outputs": [],
   "source": [
    "import seaborn as sns\n",
    "\n",
    "# Ваш код здесь\n",
    "# <...>\n",
    "pass"
   ]
  },
  {
   "cell_type": "markdown",
   "id": "3b695bdd",
   "metadata": {},
   "source": [
    "# 2. Визуализация данных"
   ]
  },
  {
   "cell_type": "markdown",
   "id": "9c42a8d6",
   "metadata": {},
   "source": [
    "1) Постройте гистограмму(ы), показывающую(ие) распределение места товаров в поисковой выдаче (Выдача) в зависимости от цены (с шагом 50 рублей) для региона Москва."
   ]
  },
  {
   "cell_type": "code",
   "execution_count": 8,
   "id": "9b040b1e",
   "metadata": {},
   "outputs": [],
   "source": [
    "# Ваш код здесь\n",
    "# <...>\n",
    "pass\n",
    "\n"
   ]
  },
  {
   "cell_type": "markdown",
   "id": "cc0ec7f7",
   "metadata": {},
   "source": [
    "2) Есть ли связь между товарными остатками и позицией в выдаче? Постройте scatter plot, оцените связь"
   ]
  },
  {
   "cell_type": "code",
   "execution_count": 9,
   "id": "9da4f92d",
   "metadata": {},
   "outputs": [],
   "source": [
    "# Ваш код здесь\n",
    "# <...>\n",
    "pass\n",
    "\n"
   ]
  },
  {
   "cell_type": "markdown",
   "id": "f25260b5",
   "metadata": {},
   "source": [
    "# 3. Анализ данных"
   ]
  },
  {
   "cell_type": "markdown",
   "id": "c733f98f",
   "metadata": {},
   "source": [
    "1) Рассчитайте медианную позицию в выдаче по уровням рейтинга"
   ]
  },
  {
   "cell_type": "code",
   "execution_count": 10,
   "id": "21f6e62c",
   "metadata": {},
   "outputs": [],
   "source": [
    "# Ваш код здесь\n",
    "# <...>\n",
    "pass\n",
    "\n"
   ]
  },
  {
   "cell_type": "markdown",
   "id": "7e38b459",
   "metadata": {},
   "source": [
    "2) Сравните среднюю позицию товаров с одинаковой Номенклатурой в разных регионах. Приведите топ-20 номенклатур с наибольшим расхождением (например, в одном регионе — в топ-3, а в другом — ниже 30-го места)."
   ]
  },
  {
   "cell_type": "code",
   "execution_count": 11,
   "id": "5de87f66",
   "metadata": {},
   "outputs": [],
   "source": [
    "# Ваш код здесь\n",
    "# <...>\n",
    "pass\n",
    "\n"
   ]
  },
  {
   "cell_type": "markdown",
   "id": "224f5c2f",
   "metadata": {},
   "source": [
    "3) Корреляционный анализ: какие факторы больше всего коррелируют с “Выдача”?"
   ]
  },
  {
   "cell_type": "code",
   "execution_count": 12,
   "id": "b9ec7606",
   "metadata": {},
   "outputs": [],
   "source": [
    "# Ваш код здесь\n",
    "# <...>\n",
    "pass\n",
    "\n"
   ]
  },
  {
   "cell_type": "markdown",
   "id": "b466dafc",
   "metadata": {},
   "source": [
    "# 4. Бизнес-выводы"
   ]
  },
  {
   "cell_type": "markdown",
   "id": "8133c12f",
   "metadata": {},
   "source": [
    "Ответьте на вопросы и обоснуйте на основе данных\\\n",
    "4.1 Какие факторы сильнее всего влияют на позицию товара? \\\n",
    "4.2 Почему одинаковый товар может занимать разные позиции в разных регионах? \\\n",
    "4.3 Какие действия вы бы рекомендовали для улучшения позиций? \\\n",
    "4.4 Сформулируйте 1–2 гипотезы, которые можно проверить с помощью A/B-теста на этих данных"
   ]
  }
 ],
 "metadata": {
  "kernelspec": {
   "display_name": "Python [conda env:base] *",
   "language": "python",
   "name": "conda-base-py"
  },
  "language_info": {
   "codemirror_mode": {
    "name": "ipython",
    "version": 3
   },
   "file_extension": ".py",
   "mimetype": "text/x-python",
   "name": "python",
   "nbconvert_exporter": "python",
   "pygments_lexer": "ipython3",
   "version": "3.13.5"
  }
 },
 "nbformat": 4,
 "nbformat_minor": 5
}
